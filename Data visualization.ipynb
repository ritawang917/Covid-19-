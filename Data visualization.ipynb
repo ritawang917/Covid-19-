{
 "cells": [
  {
   "cell_type": "markdown",
   "metadata": {},
   "source": [
    "### Segment-2\n",
    "#### Content\n",
    "\n",
    "Selected topic: COVID-19\n",
    "The novel coronavirus disease (COVID-19) is an infectious disease caused by SARS-CoV-2 which is a type of coronavirus discovered in 2019. Coronavirus pandemic was originated from China in December 2019, has resulted with over 604 Million cases and 6.5 Million deaths worldwide.\n",
    "\n",
    "Reason why they selected their topic?\n",
    "We selected the topic of COVID-19, because we are currently in a situtation where there are still relatively high numbers of people with COVID-19."
   ]
  },
  {
   "cell_type": "markdown",
   "metadata": {},
   "source": [
    "#### Description of their source of data:\n",
    "Our dataset comes from NYC open data repository, Data Provided by Department of Health and Mental Hygiene (DOHMH).The dataset shows outcomes (confirmed cases, hospitalizations, and deaths) for cohorts defined by each date of specimen collection (specimen_date). For example, if a NYC resident tested positive for SARS-CoV-2 and was subsequently hospitalized, both events would show under the same specimen_date, indicating the date of specimen collection for the positive test and not the date of the hospitalization.The data consists of the following infromation -\n",
    "\n",
    "- covid-testing specimens\n",
    "- the extracted date of the specimen results\n",
    "- the number of people tested\n",
    "- the number of people who were tested positive for COVID-19\n",
    "- the number of people who were hospitalized\n",
    "- the number of people who passed away in the hospital due to COVID-19."
   ]
  },
  {
   "cell_type": "markdown",
   "metadata": {},
   "source": [
    "#### Questions they hope to answer with the data?\n",
    "- Does the number of COVID-19 patients hospitalized correlate with the average percentage of COVID-19 patients who passed away during hospitalization?\n",
    "- By analyzing the data can we predict the trend of people testing positive in NYC?\n",
    "- By analyzing the data from hospitalization and death rates compared to the tested positive for COVID-19, has the virus appeared to cause a more severe effect on the community?\n",
    "- Does the number of people who are tested positive for COVID-19 correlate with the number of deaths in the hospital?\n",
    "- Did the time of vaccination correlate with the number of deaths in the hospital due to COVID-19?\n",
    "\n"
   ]
  },
  {
   "cell_type": "markdown",
   "metadata": {},
   "source": [
    "#### Resources\n",
    "##### Data Cleaning and Analysis\n",
    "- Python\n",
    "- Jupyter Notebook\n",
    "- Matplotlib\n",
    "##### Database Storage\n",
    "- PostgreSQL/pgAdmin4\n",
    "##### Machine Learning\n",
    "- SciKitLearn - supervised machine learning models"
   ]
  },
  {
   "cell_type": "markdown",
   "metadata": {},
   "source": [
    "##### Preprocessing\n",
    "Cleaning is the process of detecting and removing unnecessary records from the data to ensure the future analysis will be informative and meaningful. We perform below steps to clean the original data set:\n",
    "\n",
    "At first we import the required packages to import, investigate and plot data: pandas, numpy and matplotlib.\n"
   ]
  },
  {
   "cell_type": "code",
   "execution_count": 1,
   "metadata": {},
   "outputs": [],
   "source": [
    "import numpy as np\n",
    "import pandas as pd\n",
    "from pathlib import Path\n",
    "import matplotlib.pyplot as plt\n",
    "from collections import Counter\n",
    "from sklearn.linear_model import LinearRegression"
   ]
  },
  {
   "cell_type": "markdown",
   "metadata": {},
   "source": [
    "We create a DataFrame where we'll store row and col numbers from the dataset."
   ]
  },
  {
   "cell_type": "code",
   "execution_count": 2,
   "metadata": {},
   "outputs": [
    {
     "data": {
      "text/html": [
       "<div>\n",
       "<style scoped>\n",
       "    .dataframe tbody tr th:only-of-type {\n",
       "        vertical-align: middle;\n",
       "    }\n",
       "\n",
       "    .dataframe tbody tr th {\n",
       "        vertical-align: top;\n",
       "    }\n",
       "\n",
       "    .dataframe thead th {\n",
       "        text-align: right;\n",
       "    }\n",
       "</style>\n",
       "<table border=\"1\" class=\"dataframe\">\n",
       "  <thead>\n",
       "    <tr style=\"text-align: right;\">\n",
       "      <th></th>\n",
       "      <th>extract_date</th>\n",
       "      <th>specimen_date</th>\n",
       "      <th>Number_tested</th>\n",
       "      <th>Number_confirmed</th>\n",
       "      <th>Number_hospitalized</th>\n",
       "      <th>Number_deaths</th>\n",
       "    </tr>\n",
       "  </thead>\n",
       "  <tbody>\n",
       "    <tr>\n",
       "      <th>0</th>\n",
       "      <td>04/29/2020</td>\n",
       "      <td>04/17/2020</td>\n",
       "      <td>9979</td>\n",
       "      <td>3386</td>\n",
       "      <td>527</td>\n",
       "      <td>96</td>\n",
       "    </tr>\n",
       "    <tr>\n",
       "      <th>1</th>\n",
       "      <td>04/29/2020</td>\n",
       "      <td>02/08/2020</td>\n",
       "      <td>1</td>\n",
       "      <td>0</td>\n",
       "      <td>0</td>\n",
       "      <td>0</td>\n",
       "    </tr>\n",
       "    <tr>\n",
       "      <th>2</th>\n",
       "      <td>04/29/2020</td>\n",
       "      <td>03/05/2020</td>\n",
       "      <td>63</td>\n",
       "      <td>5</td>\n",
       "      <td>3</td>\n",
       "      <td>1</td>\n",
       "    </tr>\n",
       "    <tr>\n",
       "      <th>3</th>\n",
       "      <td>04/29/2020</td>\n",
       "      <td>04/09/2020</td>\n",
       "      <td>9019</td>\n",
       "      <td>4803</td>\n",
       "      <td>1253</td>\n",
       "      <td>386</td>\n",
       "    </tr>\n",
       "    <tr>\n",
       "      <th>4</th>\n",
       "      <td>04/29/2020</td>\n",
       "      <td>04/03/2020</td>\n",
       "      <td>9389</td>\n",
       "      <td>5523</td>\n",
       "      <td>1688</td>\n",
       "      <td>582</td>\n",
       "    </tr>\n",
       "    <tr>\n",
       "      <th>5</th>\n",
       "      <td>04/29/2020</td>\n",
       "      <td>03/25/2020</td>\n",
       "      <td>7457</td>\n",
       "      <td>4803</td>\n",
       "      <td>1395</td>\n",
       "      <td>429</td>\n",
       "    </tr>\n",
       "    <tr>\n",
       "      <th>6</th>\n",
       "      <td>04/29/2020</td>\n",
       "      <td>03/21/2020</td>\n",
       "      <td>4713</td>\n",
       "      <td>2663</td>\n",
       "      <td>757</td>\n",
       "      <td>231</td>\n",
       "    </tr>\n",
       "    <tr>\n",
       "      <th>7</th>\n",
       "      <td>04/29/2020</td>\n",
       "      <td>03/20/2020</td>\n",
       "      <td>7756</td>\n",
       "      <td>4121</td>\n",
       "      <td>889</td>\n",
       "      <td>237</td>\n",
       "    </tr>\n",
       "    <tr>\n",
       "      <th>8</th>\n",
       "      <td>04/29/2020</td>\n",
       "      <td>03/14/2020</td>\n",
       "      <td>1702</td>\n",
       "      <td>684</td>\n",
       "      <td>217</td>\n",
       "      <td>59</td>\n",
       "    </tr>\n",
       "    <tr>\n",
       "      <th>9</th>\n",
       "      <td>04/29/2020</td>\n",
       "      <td>04/24/2020</td>\n",
       "      <td>8683</td>\n",
       "      <td>2092</td>\n",
       "      <td>230</td>\n",
       "      <td>18</td>\n",
       "    </tr>\n",
       "  </tbody>\n",
       "</table>\n",
       "</div>"
      ],
      "text/plain": [
       "  extract_date specimen_date  Number_tested  Number_confirmed  \\\n",
       "0   04/29/2020    04/17/2020           9979              3386   \n",
       "1   04/29/2020    02/08/2020              1                 0   \n",
       "2   04/29/2020    03/05/2020             63                 5   \n",
       "3   04/29/2020    04/09/2020           9019              4803   \n",
       "4   04/29/2020    04/03/2020           9389              5523   \n",
       "5   04/29/2020    03/25/2020           7457              4803   \n",
       "6   04/29/2020    03/21/2020           4713              2663   \n",
       "7   04/29/2020    03/20/2020           7756              4121   \n",
       "8   04/29/2020    03/14/2020           1702               684   \n",
       "9   04/29/2020    04/24/2020           8683              2092   \n",
       "\n",
       "   Number_hospitalized  Number_deaths  \n",
       "0                  527             96  \n",
       "1                    0              0  \n",
       "2                    3              1  \n",
       "3                 1253            386  \n",
       "4                 1688            582  \n",
       "5                 1395            429  \n",
       "6                  757            231  \n",
       "7                  889            237  \n",
       "8                  217             59  \n",
       "9                  230             18  "
      ]
     },
     "execution_count": 2,
     "metadata": {},
     "output_type": "execute_result"
    }
   ],
   "source": [
    "covid_df=pd.read_csv(\"C:\\\\Users\\sushm\\OneDrive\\Desktop\\class\\class\\project\\COVID-19.csv\")\n",
    "covid_df.head(10)"
   ]
  },
  {
   "cell_type": "code",
   "execution_count": 3,
   "metadata": {},
   "outputs": [
    {
     "name": "stdout",
     "output_type": "stream",
     "text": [
      "<class 'pandas.core.frame.DataFrame'>\n",
      "RangeIndex: 176148 entries, 0 to 176147\n",
      "Data columns (total 6 columns):\n",
      " #   Column               Non-Null Count   Dtype \n",
      "---  ------               --------------   ----- \n",
      " 0   extract_date         176148 non-null  object\n",
      " 1   specimen_date        176148 non-null  object\n",
      " 2   Number_tested        176148 non-null  int64 \n",
      " 3   Number_confirmed     176148 non-null  int64 \n",
      " 4   Number_hospitalized  176148 non-null  int64 \n",
      " 5   Number_deaths        176148 non-null  int64 \n",
      "dtypes: int64(4), object(2)\n",
      "memory usage: 8.1+ MB\n"
     ]
    }
   ],
   "source": [
    "covid_df.info()"
   ]
  },
  {
   "cell_type": "code",
   "execution_count": 4,
   "metadata": {},
   "outputs": [
    {
     "data": {
      "text/plain": [
       "(176148, 6)"
      ]
     },
     "execution_count": 4,
     "metadata": {},
     "output_type": "execute_result"
    }
   ],
   "source": [
    "covid_df.shape"
   ]
  },
  {
   "cell_type": "code",
   "execution_count": 5,
   "metadata": {
    "scrolled": true
   },
   "outputs": [
    {
     "data": {
      "text/html": [
       "<div>\n",
       "<style scoped>\n",
       "    .dataframe tbody tr th:only-of-type {\n",
       "        vertical-align: middle;\n",
       "    }\n",
       "\n",
       "    .dataframe tbody tr th {\n",
       "        vertical-align: top;\n",
       "    }\n",
       "\n",
       "    .dataframe thead th {\n",
       "        text-align: right;\n",
       "    }\n",
       "</style>\n",
       "<table border=\"1\" class=\"dataframe\">\n",
       "  <thead>\n",
       "    <tr style=\"text-align: right;\">\n",
       "      <th></th>\n",
       "      <th>Number_tested</th>\n",
       "      <th>Number_confirmed</th>\n",
       "      <th>Number_hospitalized</th>\n",
       "      <th>Number_deaths</th>\n",
       "    </tr>\n",
       "  </thead>\n",
       "  <tbody>\n",
       "    <tr>\n",
       "      <th>count</th>\n",
       "      <td>176148.000000</td>\n",
       "      <td>176148.000000</td>\n",
       "      <td>176148.000000</td>\n",
       "      <td>176148.000000</td>\n",
       "    </tr>\n",
       "    <tr>\n",
       "      <th>mean</th>\n",
       "      <td>11141.475714</td>\n",
       "      <td>1427.914680</td>\n",
       "      <td>234.946375</td>\n",
       "      <td>73.940686</td>\n",
       "    </tr>\n",
       "    <tr>\n",
       "      <th>std</th>\n",
       "      <td>6413.050113</td>\n",
       "      <td>1368.222368</td>\n",
       "      <td>392.006729</td>\n",
       "      <td>160.110002</td>\n",
       "    </tr>\n",
       "    <tr>\n",
       "      <th>min</th>\n",
       "      <td>1.000000</td>\n",
       "      <td>0.000000</td>\n",
       "      <td>0.000000</td>\n",
       "      <td>0.000000</td>\n",
       "    </tr>\n",
       "    <tr>\n",
       "      <th>25%</th>\n",
       "      <td>6738.000000</td>\n",
       "      <td>371.000000</td>\n",
       "      <td>38.000000</td>\n",
       "      <td>4.000000</td>\n",
       "    </tr>\n",
       "    <tr>\n",
       "      <th>50%</th>\n",
       "      <td>10885.000000</td>\n",
       "      <td>1135.000000</td>\n",
       "      <td>115.000000</td>\n",
       "      <td>21.000000</td>\n",
       "    </tr>\n",
       "    <tr>\n",
       "      <th>75%</th>\n",
       "      <td>16448.000000</td>\n",
       "      <td>1960.000000</td>\n",
       "      <td>199.000000</td>\n",
       "      <td>44.000000</td>\n",
       "    </tr>\n",
       "    <tr>\n",
       "      <th>max</th>\n",
       "      <td>24727.000000</td>\n",
       "      <td>6852.000000</td>\n",
       "      <td>2016.000000</td>\n",
       "      <td>923.000000</td>\n",
       "    </tr>\n",
       "  </tbody>\n",
       "</table>\n",
       "</div>"
      ],
      "text/plain": [
       "       Number_tested  Number_confirmed  Number_hospitalized  Number_deaths\n",
       "count  176148.000000     176148.000000        176148.000000  176148.000000\n",
       "mean    11141.475714       1427.914680           234.946375      73.940686\n",
       "std      6413.050113       1368.222368           392.006729     160.110002\n",
       "min         1.000000          0.000000             0.000000       0.000000\n",
       "25%      6738.000000        371.000000            38.000000       4.000000\n",
       "50%     10885.000000       1135.000000           115.000000      21.000000\n",
       "75%     16448.000000       1960.000000           199.000000      44.000000\n",
       "max     24727.000000       6852.000000          2016.000000     923.000000"
      ]
     },
     "execution_count": 5,
     "metadata": {},
     "output_type": "execute_result"
    }
   ],
   "source": [
    "covid_df.describe()"
   ]
  },
  {
   "cell_type": "markdown",
   "metadata": {},
   "source": [
    "The maximum and minimum number of hospitalization was 2016 and 0 in the dataset repectively.The maximum and minimum number of death was 923 and 0 in the dataset repectively."
   ]
  },
  {
   "cell_type": "code",
   "execution_count": 6,
   "metadata": {},
   "outputs": [
    {
     "data": {
      "text/plain": [
       "extract_date           object\n",
       "specimen_date          object\n",
       "Number_tested           int64\n",
       "Number_confirmed        int64\n",
       "Number_hospitalized     int64\n",
       "Number_deaths           int64\n",
       "dtype: object"
      ]
     },
     "execution_count": 6,
     "metadata": {},
     "output_type": "execute_result"
    }
   ],
   "source": [
    "covid_df.dtypes"
   ]
  },
  {
   "cell_type": "code",
   "execution_count": 7,
   "metadata": {},
   "outputs": [
    {
     "name": "stdout",
     "output_type": "stream",
     "text": [
      "Columnextract_datehas0null values\n",
      "Columnspecimen_datehas0null values\n",
      "ColumnNumber_testedhas0null values\n",
      "ColumnNumber_confirmedhas0null values\n",
      "ColumnNumber_hospitalizedhas0null values\n",
      "ColumnNumber_deathshas0null values\n"
     ]
    }
   ],
   "source": [
    "for column in covid_df.columns:\n",
    "    print(f\"Column{column}has{covid_df[column].isnull().sum()}null values\")"
   ]
  },
  {
   "cell_type": "code",
   "execution_count": 8,
   "metadata": {},
   "outputs": [
    {
     "data": {
      "text/plain": [
       "['extract_date',\n",
       " 'specimen_date',\n",
       " 'Number_tested',\n",
       " 'Number_confirmed',\n",
       " 'Number_hospitalized',\n",
       " 'Number_deaths']"
      ]
     },
     "execution_count": 8,
     "metadata": {},
     "output_type": "execute_result"
    }
   ],
   "source": [
    "covid_df.columns.to_list()"
   ]
  },
  {
   "cell_type": "code",
   "execution_count": 9,
   "metadata": {},
   "outputs": [
    {
     "data": {
      "text/html": [
       "<div>\n",
       "<style scoped>\n",
       "    .dataframe tbody tr th:only-of-type {\n",
       "        vertical-align: middle;\n",
       "    }\n",
       "\n",
       "    .dataframe tbody tr th {\n",
       "        vertical-align: top;\n",
       "    }\n",
       "\n",
       "    .dataframe thead th {\n",
       "        text-align: right;\n",
       "    }\n",
       "</style>\n",
       "<table border=\"1\" class=\"dataframe\">\n",
       "  <thead>\n",
       "    <tr style=\"text-align: right;\">\n",
       "      <th></th>\n",
       "      <th>Number_tested</th>\n",
       "      <th>Number_confirmed</th>\n",
       "      <th>Number_hospitalized</th>\n",
       "      <th>Number_deaths</th>\n",
       "    </tr>\n",
       "  </thead>\n",
       "  <tbody>\n",
       "    <tr>\n",
       "      <th>Number_tested</th>\n",
       "      <td>1.000000</td>\n",
       "      <td>0.274652</td>\n",
       "      <td>-0.065303</td>\n",
       "      <td>-0.113066</td>\n",
       "    </tr>\n",
       "    <tr>\n",
       "      <th>Number_confirmed</th>\n",
       "      <td>0.274652</td>\n",
       "      <td>1.000000</td>\n",
       "      <td>0.873871</td>\n",
       "      <td>0.829920</td>\n",
       "    </tr>\n",
       "    <tr>\n",
       "      <th>Number_hospitalized</th>\n",
       "      <td>-0.065303</td>\n",
       "      <td>0.873871</td>\n",
       "      <td>1.000000</td>\n",
       "      <td>0.987075</td>\n",
       "    </tr>\n",
       "    <tr>\n",
       "      <th>Number_deaths</th>\n",
       "      <td>-0.113066</td>\n",
       "      <td>0.829920</td>\n",
       "      <td>0.987075</td>\n",
       "      <td>1.000000</td>\n",
       "    </tr>\n",
       "  </tbody>\n",
       "</table>\n",
       "</div>"
      ],
      "text/plain": [
       "                     Number_tested  Number_confirmed  Number_hospitalized  \\\n",
       "Number_tested             1.000000          0.274652            -0.065303   \n",
       "Number_confirmed          0.274652          1.000000             0.873871   \n",
       "Number_hospitalized      -0.065303          0.873871             1.000000   \n",
       "Number_deaths            -0.113066          0.829920             0.987075   \n",
       "\n",
       "                     Number_deaths  \n",
       "Number_tested            -0.113066  \n",
       "Number_confirmed          0.829920  \n",
       "Number_hospitalized       0.987075  \n",
       "Number_deaths             1.000000  "
      ]
     },
     "execution_count": 9,
     "metadata": {},
     "output_type": "execute_result"
    }
   ],
   "source": [
    "covid_df.corr()"
   ]
  },
  {
   "cell_type": "code",
   "execution_count": 10,
   "metadata": {},
   "outputs": [
    {
     "data": {
      "image/png": "[encoded data removed]",
      "text/plain": [
       "<Figure size 432x288 with 1 Axes>"
      ]
     },
     "metadata": {
      "needs_background": "light"
     },
     "output_type": "display_data"
    }
   ],
   "source": [
    "plt.scatter(covid_df.Number_tested, covid_df.Number_deaths)\n",
    "plt.xlabel('Number_tested')\n",
    "plt.ylabel('Number_deaths')\n",
    "plt.show()"
   ]
  },
  {
   "cell_type": "code",
   "execution_count": 11,
   "metadata": {},
   "outputs": [
    {
     "data": {
      "image/png": "[encoded data removed]",
      "text/plain": [
       "<Figure size 432x288 with 1 Axes>"
      ]
     },
     "metadata": {
      "needs_background": "light"
     },
     "output_type": "display_data"
    }
   ],
   "source": [
    "plt.scatter(covid_df.Number_hospitalized, covid_df.Number_deaths)\n",
    "plt.xlabel('Number_hospitalized')\n",
    "plt.ylabel('Number_deaths')\n",
    "plt.show()"
   ]
  },
  {
   "cell_type": "markdown",
   "metadata": {},
   "source": [
    "The above figure shows a positive correlation between number of hospitalized and number of deaths.Along the x-axis are the number of hospitalized from our dataset, and the y-axis are the Number_deaths."
   ]
  },
  {
   "cell_type": "markdown",
   "metadata": {},
   "source": [
    "### Exploratory Data Analysis (EDA)\n",
    "\n",
    "#### Data wrangling for machine learning\n",
    "\n",
    "Prepare the data for further analysis-"
   ]
  },
  {
   "cell_type": "code",
   "execution_count": 12,
   "metadata": {},
   "outputs": [],
   "source": [
    "X = covid_df.Number_hospitalized.values.reshape(-1, 1)"
   ]
  },
  {
   "cell_type": "code",
   "execution_count": 13,
   "metadata": {},
   "outputs": [],
   "source": [
    "y = covid_df.Number_deaths.values.reshape(-1, 1)"
   ]
  },
  {
   "cell_type": "markdown",
   "metadata": {},
   "source": []
  },
  {
   "cell_type": "code",
   "execution_count": 14,
   "metadata": {},
   "outputs": [
    {
     "data": {
      "text/plain": [
       "(176148, 1)"
      ]
     },
     "execution_count": 14,
     "metadata": {},
     "output_type": "execute_result"
    }
   ],
   "source": [
    "X.shape"
   ]
  },
  {
   "cell_type": "code",
   "execution_count": 15,
   "metadata": {},
   "outputs": [
    {
     "data": {
      "text/plain": [
       "(176148, 1)"
      ]
     },
     "execution_count": 15,
     "metadata": {},
     "output_type": "execute_result"
    }
   ],
   "source": [
    "y.shape"
   ]
  },
  {
   "cell_type": "code",
   "execution_count": 16,
   "metadata": {},
   "outputs": [
    {
     "data": {
      "text/plain": [
       "array([[ 527],\n",
       "       [   0],\n",
       "       [   3],\n",
       "       [1253],\n",
       "       [1688]], dtype=int64)"
      ]
     },
     "execution_count": 16,
     "metadata": {},
     "output_type": "execute_result"
    }
   ],
   "source": [
    "X[:5]"
   ]
  },
  {
   "cell_type": "code",
   "execution_count": 17,
   "metadata": {},
   "outputs": [
    {
     "data": {
      "text/plain": [
       "array([[ 96],\n",
       "       [  0],\n",
       "       [  1],\n",
       "       [386],\n",
       "       [582]], dtype=int64)"
      ]
     },
     "execution_count": 17,
     "metadata": {},
     "output_type": "execute_result"
    }
   ],
   "source": [
    "y[:5]"
   ]
  },
  {
   "cell_type": "markdown",
   "metadata": {},
   "source": [
    " Using several libraries, basic linear regressions were the initial machine learning models to gain insights."
   ]
  },
  {
   "cell_type": "code",
   "execution_count": 18,
   "metadata": {},
   "outputs": [],
   "source": [
    "model = LinearRegression()"
   ]
  },
  {
   "cell_type": "code",
   "execution_count": 19,
   "metadata": {},
   "outputs": [
    {
     "data": {
      "text/plain": [
       "LinearRegression()"
      ]
     },
     "execution_count": 19,
     "metadata": {},
     "output_type": "execute_result"
    }
   ],
   "source": [
    "model.fit(X, y)"
   ]
  },
  {
   "cell_type": "code",
   "execution_count": 20,
   "metadata": {},
   "outputs": [
    {
     "name": "stdout",
     "output_type": "stream",
     "text": [
      "(176148, 1)\n"
     ]
    }
   ],
   "source": [
    "y_pred = model.predict(X)\n",
    "print(y_pred.shape)"
   ]
  },
  {
   "cell_type": "code",
   "execution_count": 21,
   "metadata": {},
   "outputs": [
    {
     "data": {
      "image/png": "[encoded data removed]",
      "text/plain": [
       "<Figure size 432x288 with 1 Axes>"
      ]
     },
     "metadata": {
      "needs_background": "light"
     },
     "output_type": "display_data"
    },
    {
     "data": {
      "text/plain": [
       "<Figure size 432x288 with 0 Axes>"
      ]
     },
     "metadata": {},
     "output_type": "display_data"
    }
   ],
   "source": [
    "plt.scatter(X, y)\n",
    "plt.plot(X, y_pred, color='red')\n",
    "plt.show()\n",
    "plt.savefig('linear regression')"
   ]
  },
  {
   "cell_type": "markdown",
   "metadata": {},
   "source": [
    "Figure 3 shows the Number_hospitalized vs. the number of deaths. The correlation between the two variables appears to be very strong at best; however, the correlation is strongly positive. Therefore, we see a positive correlation between them.\n",
    "\n",
    "The best fit line is in red, drawn through the predictions. The maximum value of Number_hospitalization in the current dataset is 2000, but the linear regression model can extrapolate beyond it. That is, if given more than 2000 count, it will be able to guess the associated deaths.\n"
   ]
  },
  {
   "cell_type": "code",
   "execution_count": 22,
   "metadata": {},
   "outputs": [
    {
     "name": "stdout",
     "output_type": "stream",
     "text": [
      "[[0.40315794]]\n",
      "[-20.77981002]\n"
     ]
    }
   ],
   "source": [
    "print(model.coef_)\n",
    "print(model.intercept_)"
   ]
  },
  {
   "cell_type": "markdown",
   "metadata": {},
   "source": [
    "#### Logistic Regression\n",
    "\n",
    "Logistic Regression is a an obvious, time-tested method for categorical target variable. The model seprates outcome '0' from outcome '1' by calculating a probability."
   ]
  },
  {
   "cell_type": "code",
   "execution_count": 23,
   "metadata": {
    "scrolled": false
   },
   "outputs": [
    {
     "data": {
      "text/html": [
       "<div>\n",
       "<style scoped>\n",
       "    .dataframe tbody tr th:only-of-type {\n",
       "        vertical-align: middle;\n",
       "    }\n",
       "\n",
       "    .dataframe tbody tr th {\n",
       "        vertical-align: top;\n",
       "    }\n",
       "\n",
       "    .dataframe thead th {\n",
       "        text-align: right;\n",
       "    }\n",
       "</style>\n",
       "<table border=\"1\" class=\"dataframe\">\n",
       "  <thead>\n",
       "    <tr style=\"text-align: right;\">\n",
       "      <th></th>\n",
       "      <th>extract_date</th>\n",
       "      <th>specimen_date</th>\n",
       "      <th>Number_tested</th>\n",
       "      <th>Number_confirmed</th>\n",
       "      <th>Number_hospitalized</th>\n",
       "      <th>Number_deaths</th>\n",
       "    </tr>\n",
       "  </thead>\n",
       "  <tbody>\n",
       "    <tr>\n",
       "      <th>0</th>\n",
       "      <td>04/29/2020</td>\n",
       "      <td>04/17/2020</td>\n",
       "      <td>9979</td>\n",
       "      <td>3386</td>\n",
       "      <td>527</td>\n",
       "      <td>96</td>\n",
       "    </tr>\n",
       "    <tr>\n",
       "      <th>1</th>\n",
       "      <td>04/29/2020</td>\n",
       "      <td>02/08/2020</td>\n",
       "      <td>1</td>\n",
       "      <td>0</td>\n",
       "      <td>0</td>\n",
       "      <td>0</td>\n",
       "    </tr>\n",
       "    <tr>\n",
       "      <th>2</th>\n",
       "      <td>04/29/2020</td>\n",
       "      <td>03/05/2020</td>\n",
       "      <td>63</td>\n",
       "      <td>5</td>\n",
       "      <td>3</td>\n",
       "      <td>1</td>\n",
       "    </tr>\n",
       "    <tr>\n",
       "      <th>3</th>\n",
       "      <td>04/29/2020</td>\n",
       "      <td>04/09/2020</td>\n",
       "      <td>9019</td>\n",
       "      <td>4803</td>\n",
       "      <td>1253</td>\n",
       "      <td>386</td>\n",
       "    </tr>\n",
       "    <tr>\n",
       "      <th>4</th>\n",
       "      <td>04/29/2020</td>\n",
       "      <td>04/03/2020</td>\n",
       "      <td>9389</td>\n",
       "      <td>5523</td>\n",
       "      <td>1688</td>\n",
       "      <td>582</td>\n",
       "    </tr>\n",
       "    <tr>\n",
       "      <th>5</th>\n",
       "      <td>04/29/2020</td>\n",
       "      <td>03/25/2020</td>\n",
       "      <td>7457</td>\n",
       "      <td>4803</td>\n",
       "      <td>1395</td>\n",
       "      <td>429</td>\n",
       "    </tr>\n",
       "    <tr>\n",
       "      <th>6</th>\n",
       "      <td>04/29/2020</td>\n",
       "      <td>03/21/2020</td>\n",
       "      <td>4713</td>\n",
       "      <td>2663</td>\n",
       "      <td>757</td>\n",
       "      <td>231</td>\n",
       "    </tr>\n",
       "    <tr>\n",
       "      <th>7</th>\n",
       "      <td>04/29/2020</td>\n",
       "      <td>03/20/2020</td>\n",
       "      <td>7756</td>\n",
       "      <td>4121</td>\n",
       "      <td>889</td>\n",
       "      <td>237</td>\n",
       "    </tr>\n",
       "    <tr>\n",
       "      <th>8</th>\n",
       "      <td>04/29/2020</td>\n",
       "      <td>03/14/2020</td>\n",
       "      <td>1702</td>\n",
       "      <td>684</td>\n",
       "      <td>217</td>\n",
       "      <td>59</td>\n",
       "    </tr>\n",
       "    <tr>\n",
       "      <th>9</th>\n",
       "      <td>04/29/2020</td>\n",
       "      <td>04/24/2020</td>\n",
       "      <td>8683</td>\n",
       "      <td>2092</td>\n",
       "      <td>230</td>\n",
       "      <td>18</td>\n",
       "    </tr>\n",
       "  </tbody>\n",
       "</table>\n",
       "</div>"
      ],
      "text/plain": [
       "  extract_date specimen_date  Number_tested  Number_confirmed  \\\n",
       "0   04/29/2020    04/17/2020           9979              3386   \n",
       "1   04/29/2020    02/08/2020              1                 0   \n",
       "2   04/29/2020    03/05/2020             63                 5   \n",
       "3   04/29/2020    04/09/2020           9019              4803   \n",
       "4   04/29/2020    04/03/2020           9389              5523   \n",
       "5   04/29/2020    03/25/2020           7457              4803   \n",
       "6   04/29/2020    03/21/2020           4713              2663   \n",
       "7   04/29/2020    03/20/2020           7756              4121   \n",
       "8   04/29/2020    03/14/2020           1702               684   \n",
       "9   04/29/2020    04/24/2020           8683              2092   \n",
       "\n",
       "   Number_hospitalized  Number_deaths  \n",
       "0                  527             96  \n",
       "1                    0              0  \n",
       "2                    3              1  \n",
       "3                 1253            386  \n",
       "4                 1688            582  \n",
       "5                 1395            429  \n",
       "6                  757            231  \n",
       "7                  889            237  \n",
       "8                  217             59  \n",
       "9                  230             18  "
      ]
     },
     "execution_count": 23,
     "metadata": {},
     "output_type": "execute_result"
    }
   ],
   "source": [
    "##Logistic Regression \n",
    "covid_df.head(10)"
   ]
  },
  {
   "cell_type": "code",
   "execution_count": 24,
   "metadata": {},
   "outputs": [],
   "source": [
    "covid_df[\"risk_of_death\"] = covid_df[\"Number_deaths\"] / covid_df[\"Number_hospitalized\"]"
   ]
  },
  {
   "cell_type": "code",
   "execution_count": 25,
   "metadata": {},
   "outputs": [
    {
     "data": {
      "text/html": [
       "<div>\n",
       "<style scoped>\n",
       "    .dataframe tbody tr th:only-of-type {\n",
       "        vertical-align: middle;\n",
       "    }\n",
       "\n",
       "    .dataframe tbody tr th {\n",
       "        vertical-align: top;\n",
       "    }\n",
       "\n",
       "    .dataframe thead th {\n",
       "        text-align: right;\n",
       "    }\n",
       "</style>\n",
       "<table border=\"1\" class=\"dataframe\">\n",
       "  <thead>\n",
       "    <tr style=\"text-align: right;\">\n",
       "      <th></th>\n",
       "      <th>extract_date</th>\n",
       "      <th>specimen_date</th>\n",
       "      <th>Number_tested</th>\n",
       "      <th>Number_confirmed</th>\n",
       "      <th>Number_hospitalized</th>\n",
       "      <th>Number_deaths</th>\n",
       "      <th>risk_of_death</th>\n",
       "    </tr>\n",
       "  </thead>\n",
       "  <tbody>\n",
       "    <tr>\n",
       "      <th>0</th>\n",
       "      <td>04/29/2020</td>\n",
       "      <td>04/17/2020</td>\n",
       "      <td>9979</td>\n",
       "      <td>3386</td>\n",
       "      <td>527</td>\n",
       "      <td>96</td>\n",
       "      <td>0.182163</td>\n",
       "    </tr>\n",
       "    <tr>\n",
       "      <th>1</th>\n",
       "      <td>04/29/2020</td>\n",
       "      <td>02/08/2020</td>\n",
       "      <td>1</td>\n",
       "      <td>0</td>\n",
       "      <td>0</td>\n",
       "      <td>0</td>\n",
       "      <td>NaN</td>\n",
       "    </tr>\n",
       "    <tr>\n",
       "      <th>2</th>\n",
       "      <td>04/29/2020</td>\n",
       "      <td>03/05/2020</td>\n",
       "      <td>63</td>\n",
       "      <td>5</td>\n",
       "      <td>3</td>\n",
       "      <td>1</td>\n",
       "      <td>0.333333</td>\n",
       "    </tr>\n",
       "    <tr>\n",
       "      <th>3</th>\n",
       "      <td>04/29/2020</td>\n",
       "      <td>04/09/2020</td>\n",
       "      <td>9019</td>\n",
       "      <td>4803</td>\n",
       "      <td>1253</td>\n",
       "      <td>386</td>\n",
       "      <td>0.308061</td>\n",
       "    </tr>\n",
       "    <tr>\n",
       "      <th>4</th>\n",
       "      <td>04/29/2020</td>\n",
       "      <td>04/03/2020</td>\n",
       "      <td>9389</td>\n",
       "      <td>5523</td>\n",
       "      <td>1688</td>\n",
       "      <td>582</td>\n",
       "      <td>0.344787</td>\n",
       "    </tr>\n",
       "  </tbody>\n",
       "</table>\n",
       "</div>"
      ],
      "text/plain": [
       "  extract_date specimen_date  Number_tested  Number_confirmed  \\\n",
       "0   04/29/2020    04/17/2020           9979              3386   \n",
       "1   04/29/2020    02/08/2020              1                 0   \n",
       "2   04/29/2020    03/05/2020             63                 5   \n",
       "3   04/29/2020    04/09/2020           9019              4803   \n",
       "4   04/29/2020    04/03/2020           9389              5523   \n",
       "\n",
       "   Number_hospitalized  Number_deaths  risk_of_death  \n",
       "0                  527             96       0.182163  \n",
       "1                    0              0            NaN  \n",
       "2                    3              1       0.333333  \n",
       "3                 1253            386       0.308061  \n",
       "4                 1688            582       0.344787  "
      ]
     },
     "execution_count": 25,
     "metadata": {},
     "output_type": "execute_result"
    }
   ],
   "source": [
    "covid_df.head()"
   ]
  },
  {
   "cell_type": "code",
   "execution_count": 26,
   "metadata": {},
   "outputs": [],
   "source": [
    "new_covid_df=covid_df.dropna()"
   ]
  },
  {
   "cell_type": "code",
   "execution_count": 27,
   "metadata": {},
   "outputs": [
    {
     "data": {
      "text/html": [
       "<div>\n",
       "<style scoped>\n",
       "    .dataframe tbody tr th:only-of-type {\n",
       "        vertical-align: middle;\n",
       "    }\n",
       "\n",
       "    .dataframe tbody tr th {\n",
       "        vertical-align: top;\n",
       "    }\n",
       "\n",
       "    .dataframe thead th {\n",
       "        text-align: right;\n",
       "    }\n",
       "</style>\n",
       "<table border=\"1\" class=\"dataframe\">\n",
       "  <thead>\n",
       "    <tr style=\"text-align: right;\">\n",
       "      <th></th>\n",
       "      <th>extract_date</th>\n",
       "      <th>specimen_date</th>\n",
       "      <th>Number_tested</th>\n",
       "      <th>Number_confirmed</th>\n",
       "      <th>Number_hospitalized</th>\n",
       "      <th>Number_deaths</th>\n",
       "      <th>risk_of_death</th>\n",
       "    </tr>\n",
       "  </thead>\n",
       "  <tbody>\n",
       "    <tr>\n",
       "      <th>0</th>\n",
       "      <td>04/29/2020</td>\n",
       "      <td>04/17/2020</td>\n",
       "      <td>9979</td>\n",
       "      <td>3386</td>\n",
       "      <td>527</td>\n",
       "      <td>96</td>\n",
       "      <td>0.182163</td>\n",
       "    </tr>\n",
       "    <tr>\n",
       "      <th>2</th>\n",
       "      <td>04/29/2020</td>\n",
       "      <td>03/05/2020</td>\n",
       "      <td>63</td>\n",
       "      <td>5</td>\n",
       "      <td>3</td>\n",
       "      <td>1</td>\n",
       "      <td>0.333333</td>\n",
       "    </tr>\n",
       "    <tr>\n",
       "      <th>3</th>\n",
       "      <td>04/29/2020</td>\n",
       "      <td>04/09/2020</td>\n",
       "      <td>9019</td>\n",
       "      <td>4803</td>\n",
       "      <td>1253</td>\n",
       "      <td>386</td>\n",
       "      <td>0.308061</td>\n",
       "    </tr>\n",
       "    <tr>\n",
       "      <th>4</th>\n",
       "      <td>04/29/2020</td>\n",
       "      <td>04/03/2020</td>\n",
       "      <td>9389</td>\n",
       "      <td>5523</td>\n",
       "      <td>1688</td>\n",
       "      <td>582</td>\n",
       "      <td>0.344787</td>\n",
       "    </tr>\n",
       "    <tr>\n",
       "      <th>5</th>\n",
       "      <td>04/29/2020</td>\n",
       "      <td>03/25/2020</td>\n",
       "      <td>7457</td>\n",
       "      <td>4803</td>\n",
       "      <td>1395</td>\n",
       "      <td>429</td>\n",
       "      <td>0.307527</td>\n",
       "    </tr>\n",
       "  </tbody>\n",
       "</table>\n",
       "</div>"
      ],
      "text/plain": [
       "  extract_date specimen_date  Number_tested  Number_confirmed  \\\n",
       "0   04/29/2020    04/17/2020           9979              3386   \n",
       "2   04/29/2020    03/05/2020             63                 5   \n",
       "3   04/29/2020    04/09/2020           9019              4803   \n",
       "4   04/29/2020    04/03/2020           9389              5523   \n",
       "5   04/29/2020    03/25/2020           7457              4803   \n",
       "\n",
       "   Number_hospitalized  Number_deaths  risk_of_death  \n",
       "0                  527             96       0.182163  \n",
       "2                    3              1       0.333333  \n",
       "3                 1253            386       0.308061  \n",
       "4                 1688            582       0.344787  \n",
       "5                 1395            429       0.307527  "
      ]
     },
     "execution_count": 27,
     "metadata": {},
     "output_type": "execute_result"
    }
   ],
   "source": [
    "new_covid_df.head()"
   ]
  },
  {
   "cell_type": "code",
   "execution_count": 28,
   "metadata": {
    "scrolled": false
   },
   "outputs": [
    {
     "name": "stderr",
     "output_type": "stream",
     "text": [
      "C:\\Users\\sushm\\anaconda3\\envs\\mlenv\\lib\\site-packages\\ipykernel_launcher.py:1: SettingWithCopyWarning: \n",
      "A value is trying to be set on a copy of a slice from a DataFrame.\n",
      "Try using .loc[row_indexer,col_indexer] = value instead\n",
      "\n",
      "See the caveats in the documentation: https://pandas.pydata.org/pandas-docs/stable/user_guide/indexing.html#returning-a-view-versus-a-copy\n",
      "  \"\"\"Entry point for launching an IPython kernel.\n"
     ]
    },
    {
     "data": {
      "text/html": [
       "<div>\n",
       "<style scoped>\n",
       "    .dataframe tbody tr th:only-of-type {\n",
       "        vertical-align: middle;\n",
       "    }\n",
       "\n",
       "    .dataframe tbody tr th {\n",
       "        vertical-align: top;\n",
       "    }\n",
       "\n",
       "    .dataframe thead th {\n",
       "        text-align: right;\n",
       "    }\n",
       "</style>\n",
       "<table border=\"1\" class=\"dataframe\">\n",
       "  <thead>\n",
       "    <tr style=\"text-align: right;\">\n",
       "      <th></th>\n",
       "      <th>extract_date</th>\n",
       "      <th>specimen_date</th>\n",
       "      <th>Number_tested</th>\n",
       "      <th>Number_confirmed</th>\n",
       "      <th>Number_hospitalized</th>\n",
       "      <th>Number_deaths</th>\n",
       "      <th>risk_of_death</th>\n",
       "      <th>death_chance</th>\n",
       "    </tr>\n",
       "  </thead>\n",
       "  <tbody>\n",
       "    <tr>\n",
       "      <th>0</th>\n",
       "      <td>04/29/2020</td>\n",
       "      <td>04/17/2020</td>\n",
       "      <td>9979</td>\n",
       "      <td>3386</td>\n",
       "      <td>527</td>\n",
       "      <td>96</td>\n",
       "      <td>0.182163</td>\n",
       "      <td>20.0</td>\n",
       "    </tr>\n",
       "    <tr>\n",
       "      <th>2</th>\n",
       "      <td>04/29/2020</td>\n",
       "      <td>03/05/2020</td>\n",
       "      <td>63</td>\n",
       "      <td>5</td>\n",
       "      <td>3</td>\n",
       "      <td>1</td>\n",
       "      <td>0.333333</td>\n",
       "      <td>30.0</td>\n",
       "    </tr>\n",
       "    <tr>\n",
       "      <th>3</th>\n",
       "      <td>04/29/2020</td>\n",
       "      <td>04/09/2020</td>\n",
       "      <td>9019</td>\n",
       "      <td>4803</td>\n",
       "      <td>1253</td>\n",
       "      <td>386</td>\n",
       "      <td>0.308061</td>\n",
       "      <td>30.0</td>\n",
       "    </tr>\n",
       "    <tr>\n",
       "      <th>4</th>\n",
       "      <td>04/29/2020</td>\n",
       "      <td>04/03/2020</td>\n",
       "      <td>9389</td>\n",
       "      <td>5523</td>\n",
       "      <td>1688</td>\n",
       "      <td>582</td>\n",
       "      <td>0.344787</td>\n",
       "      <td>30.0</td>\n",
       "    </tr>\n",
       "    <tr>\n",
       "      <th>5</th>\n",
       "      <td>04/29/2020</td>\n",
       "      <td>03/25/2020</td>\n",
       "      <td>7457</td>\n",
       "      <td>4803</td>\n",
       "      <td>1395</td>\n",
       "      <td>429</td>\n",
       "      <td>0.307527</td>\n",
       "      <td>30.0</td>\n",
       "    </tr>\n",
       "    <tr>\n",
       "      <th>6</th>\n",
       "      <td>04/29/2020</td>\n",
       "      <td>03/21/2020</td>\n",
       "      <td>4713</td>\n",
       "      <td>2663</td>\n",
       "      <td>757</td>\n",
       "      <td>231</td>\n",
       "      <td>0.305152</td>\n",
       "      <td>30.0</td>\n",
       "    </tr>\n",
       "    <tr>\n",
       "      <th>7</th>\n",
       "      <td>04/29/2020</td>\n",
       "      <td>03/20/2020</td>\n",
       "      <td>7756</td>\n",
       "      <td>4121</td>\n",
       "      <td>889</td>\n",
       "      <td>237</td>\n",
       "      <td>0.266592</td>\n",
       "      <td>30.0</td>\n",
       "    </tr>\n",
       "    <tr>\n",
       "      <th>8</th>\n",
       "      <td>04/29/2020</td>\n",
       "      <td>03/14/2020</td>\n",
       "      <td>1702</td>\n",
       "      <td>684</td>\n",
       "      <td>217</td>\n",
       "      <td>59</td>\n",
       "      <td>0.271889</td>\n",
       "      <td>30.0</td>\n",
       "    </tr>\n",
       "    <tr>\n",
       "      <th>9</th>\n",
       "      <td>04/29/2020</td>\n",
       "      <td>04/24/2020</td>\n",
       "      <td>8683</td>\n",
       "      <td>2092</td>\n",
       "      <td>230</td>\n",
       "      <td>18</td>\n",
       "      <td>0.078261</td>\n",
       "      <td>10.0</td>\n",
       "    </tr>\n",
       "    <tr>\n",
       "      <th>10</th>\n",
       "      <td>04/29/2020</td>\n",
       "      <td>03/08/2020</td>\n",
       "      <td>109</td>\n",
       "      <td>27</td>\n",
       "      <td>15</td>\n",
       "      <td>4</td>\n",
       "      <td>0.266667</td>\n",
       "      <td>30.0</td>\n",
       "    </tr>\n",
       "  </tbody>\n",
       "</table>\n",
       "</div>"
      ],
      "text/plain": [
       "   extract_date specimen_date  Number_tested  Number_confirmed  \\\n",
       "0    04/29/2020    04/17/2020           9979              3386   \n",
       "2    04/29/2020    03/05/2020             63                 5   \n",
       "3    04/29/2020    04/09/2020           9019              4803   \n",
       "4    04/29/2020    04/03/2020           9389              5523   \n",
       "5    04/29/2020    03/25/2020           7457              4803   \n",
       "6    04/29/2020    03/21/2020           4713              2663   \n",
       "7    04/29/2020    03/20/2020           7756              4121   \n",
       "8    04/29/2020    03/14/2020           1702               684   \n",
       "9    04/29/2020    04/24/2020           8683              2092   \n",
       "10   04/29/2020    03/08/2020            109                27   \n",
       "\n",
       "    Number_hospitalized  Number_deaths  risk_of_death  death_chance  \n",
       "0                   527             96       0.182163          20.0  \n",
       "2                     3              1       0.333333          30.0  \n",
       "3                  1253            386       0.308061          30.0  \n",
       "4                  1688            582       0.344787          30.0  \n",
       "5                  1395            429       0.307527          30.0  \n",
       "6                   757            231       0.305152          30.0  \n",
       "7                   889            237       0.266592          30.0  \n",
       "8                   217             59       0.271889          30.0  \n",
       "9                   230             18       0.078261          10.0  \n",
       "10                   15              4       0.266667          30.0  "
      ]
     },
     "execution_count": 28,
     "metadata": {},
     "output_type": "execute_result"
    }
   ],
   "source": [
    "new_covid_df['death_chance']=new_covid_df['risk_of_death'].round(1)*100\n",
    "new_covid_df.head(10)"
   ]
  },
  {
   "cell_type": "code",
   "execution_count": 29,
   "metadata": {},
   "outputs": [],
   "source": [
    "#new_covid_df2=new_covid_df"
   ]
  },
  {
   "cell_type": "code",
   "execution_count": 30,
   "metadata": {},
   "outputs": [],
   "source": [
    "#output_file_path = \"../project/COVID_deaths_chance.csv\"\n",
    "#new_covid_df2.to_csv(output_file_path, index=False)"
   ]
  },
  {
   "cell_type": "code",
   "execution_count": 31,
   "metadata": {
    "scrolled": false
   },
   "outputs": [
    {
     "data": {
      "text/html": [
       "<div>\n",
       "<style scoped>\n",
       "    .dataframe tbody tr th:only-of-type {\n",
       "        vertical-align: middle;\n",
       "    }\n",
       "\n",
       "    .dataframe tbody tr th {\n",
       "        vertical-align: top;\n",
       "    }\n",
       "\n",
       "    .dataframe thead th {\n",
       "        text-align: right;\n",
       "    }\n",
       "</style>\n",
       "<table border=\"1\" class=\"dataframe\">\n",
       "  <thead>\n",
       "    <tr style=\"text-align: right;\">\n",
       "      <th></th>\n",
       "      <th>extract_date</th>\n",
       "      <th>specimen_date</th>\n",
       "      <th>Number_tested</th>\n",
       "      <th>Number_confirmed</th>\n",
       "      <th>Number_hospitalized</th>\n",
       "      <th>Number_deaths</th>\n",
       "      <th>risk_of_death</th>\n",
       "      <th>death_chance</th>\n",
       "    </tr>\n",
       "  </thead>\n",
       "  <tbody>\n",
       "    <tr>\n",
       "      <th>0</th>\n",
       "      <td>04/29/2020</td>\n",
       "      <td>04/17/2020</td>\n",
       "      <td>9979</td>\n",
       "      <td>3386</td>\n",
       "      <td>527</td>\n",
       "      <td>96</td>\n",
       "      <td>0.182163</td>\n",
       "      <td>20.0</td>\n",
       "    </tr>\n",
       "    <tr>\n",
       "      <th>1</th>\n",
       "      <td>04/29/2020</td>\n",
       "      <td>03/05/2020</td>\n",
       "      <td>63</td>\n",
       "      <td>5</td>\n",
       "      <td>3</td>\n",
       "      <td>1</td>\n",
       "      <td>0.333333</td>\n",
       "      <td>30.0</td>\n",
       "    </tr>\n",
       "    <tr>\n",
       "      <th>2</th>\n",
       "      <td>04/29/2020</td>\n",
       "      <td>04/09/2020</td>\n",
       "      <td>9019</td>\n",
       "      <td>4803</td>\n",
       "      <td>1253</td>\n",
       "      <td>386</td>\n",
       "      <td>0.308061</td>\n",
       "      <td>30.0</td>\n",
       "    </tr>\n",
       "    <tr>\n",
       "      <th>3</th>\n",
       "      <td>04/29/2020</td>\n",
       "      <td>04/03/2020</td>\n",
       "      <td>9389</td>\n",
       "      <td>5523</td>\n",
       "      <td>1688</td>\n",
       "      <td>582</td>\n",
       "      <td>0.344787</td>\n",
       "      <td>30.0</td>\n",
       "    </tr>\n",
       "    <tr>\n",
       "      <th>4</th>\n",
       "      <td>04/29/2020</td>\n",
       "      <td>03/25/2020</td>\n",
       "      <td>7457</td>\n",
       "      <td>4803</td>\n",
       "      <td>1395</td>\n",
       "      <td>429</td>\n",
       "      <td>0.307527</td>\n",
       "      <td>30.0</td>\n",
       "    </tr>\n",
       "    <tr>\n",
       "      <th>5</th>\n",
       "      <td>04/29/2020</td>\n",
       "      <td>03/21/2020</td>\n",
       "      <td>4713</td>\n",
       "      <td>2663</td>\n",
       "      <td>757</td>\n",
       "      <td>231</td>\n",
       "      <td>0.305152</td>\n",
       "      <td>30.0</td>\n",
       "    </tr>\n",
       "    <tr>\n",
       "      <th>6</th>\n",
       "      <td>04/29/2020</td>\n",
       "      <td>03/20/2020</td>\n",
       "      <td>7756</td>\n",
       "      <td>4121</td>\n",
       "      <td>889</td>\n",
       "      <td>237</td>\n",
       "      <td>0.266592</td>\n",
       "      <td>30.0</td>\n",
       "    </tr>\n",
       "    <tr>\n",
       "      <th>7</th>\n",
       "      <td>04/29/2020</td>\n",
       "      <td>03/14/2020</td>\n",
       "      <td>1702</td>\n",
       "      <td>684</td>\n",
       "      <td>217</td>\n",
       "      <td>59</td>\n",
       "      <td>0.271889</td>\n",
       "      <td>30.0</td>\n",
       "    </tr>\n",
       "    <tr>\n",
       "      <th>8</th>\n",
       "      <td>04/29/2020</td>\n",
       "      <td>04/24/2020</td>\n",
       "      <td>8683</td>\n",
       "      <td>2092</td>\n",
       "      <td>230</td>\n",
       "      <td>18</td>\n",
       "      <td>0.078261</td>\n",
       "      <td>10.0</td>\n",
       "    </tr>\n",
       "    <tr>\n",
       "      <th>9</th>\n",
       "      <td>04/29/2020</td>\n",
       "      <td>03/08/2020</td>\n",
       "      <td>109</td>\n",
       "      <td>27</td>\n",
       "      <td>15</td>\n",
       "      <td>4</td>\n",
       "      <td>0.266667</td>\n",
       "      <td>30.0</td>\n",
       "    </tr>\n",
       "  </tbody>\n",
       "</table>\n",
       "</div>"
      ],
      "text/plain": [
       "  extract_date specimen_date  Number_tested  Number_confirmed  \\\n",
       "0   04/29/2020    04/17/2020           9979              3386   \n",
       "1   04/29/2020    03/05/2020             63                 5   \n",
       "2   04/29/2020    04/09/2020           9019              4803   \n",
       "3   04/29/2020    04/03/2020           9389              5523   \n",
       "4   04/29/2020    03/25/2020           7457              4803   \n",
       "5   04/29/2020    03/21/2020           4713              2663   \n",
       "6   04/29/2020    03/20/2020           7756              4121   \n",
       "7   04/29/2020    03/14/2020           1702               684   \n",
       "8   04/29/2020    04/24/2020           8683              2092   \n",
       "9   04/29/2020    03/08/2020            109                27   \n",
       "\n",
       "   Number_hospitalized  Number_deaths  risk_of_death  death_chance  \n",
       "0                  527             96       0.182163          20.0  \n",
       "1                    3              1       0.333333          30.0  \n",
       "2                 1253            386       0.308061          30.0  \n",
       "3                 1688            582       0.344787          30.0  \n",
       "4                 1395            429       0.307527          30.0  \n",
       "5                  757            231       0.305152          30.0  \n",
       "6                  889            237       0.266592          30.0  \n",
       "7                  217             59       0.271889          30.0  \n",
       "8                  230             18       0.078261          10.0  \n",
       "9                   15              4       0.266667          30.0  "
      ]
     },
     "execution_count": 31,
     "metadata": {},
     "output_type": "execute_result"
    }
   ],
   "source": [
    "#death_chance_df=pd.read_csv(\"../project/COVID_deaths_chance.csv\")\n",
    "#death_chance_df.head(10)"
   ]
  },
  {
   "cell_type": "code",
   "execution_count": 32,
   "metadata": {
    "scrolled": true
   },
   "outputs": [],
   "source": [
    "death_chance_df['death_probability']= death_chance=pd.cut(death_chance_df['death_chance'], \n",
    "                               bins=[0, 30, 100], \n",
    "                               labels=['0', '1'])"
   ]
  },
  {
   "cell_type": "code",
   "execution_count": 33,
   "metadata": {
    "scrolled": true
   },
   "outputs": [
    {
     "data": {
      "text/html": [
       "<div>\n",
       "<style scoped>\n",
       "    .dataframe tbody tr th:only-of-type {\n",
       "        vertical-align: middle;\n",
       "    }\n",
       "\n",
       "    .dataframe tbody tr th {\n",
       "        vertical-align: top;\n",
       "    }\n",
       "\n",
       "    .dataframe thead th {\n",
       "        text-align: right;\n",
       "    }\n",
       "</style>\n",
       "<table border=\"1\" class=\"dataframe\">\n",
       "  <thead>\n",
       "    <tr style=\"text-align: right;\">\n",
       "      <th></th>\n",
       "      <th>extract_date</th>\n",
       "      <th>specimen_date</th>\n",
       "      <th>Number_tested</th>\n",
       "      <th>Number_confirmed</th>\n",
       "      <th>Number_hospitalized</th>\n",
       "      <th>Number_deaths</th>\n",
       "      <th>risk_of_death</th>\n",
       "      <th>death_chance</th>\n",
       "      <th>death_probability</th>\n",
       "    </tr>\n",
       "  </thead>\n",
       "  <tbody>\n",
       "    <tr>\n",
       "      <th>0</th>\n",
       "      <td>04/29/2020</td>\n",
       "      <td>04/17/2020</td>\n",
       "      <td>9979</td>\n",
       "      <td>3386</td>\n",
       "      <td>527</td>\n",
       "      <td>96</td>\n",
       "      <td>0.182163</td>\n",
       "      <td>20.0</td>\n",
       "      <td>0</td>\n",
       "    </tr>\n",
       "    <tr>\n",
       "      <th>1</th>\n",
       "      <td>04/29/2020</td>\n",
       "      <td>03/05/2020</td>\n",
       "      <td>63</td>\n",
       "      <td>5</td>\n",
       "      <td>3</td>\n",
       "      <td>1</td>\n",
       "      <td>0.333333</td>\n",
       "      <td>30.0</td>\n",
       "      <td>0</td>\n",
       "    </tr>\n",
       "    <tr>\n",
       "      <th>2</th>\n",
       "      <td>04/29/2020</td>\n",
       "      <td>04/09/2020</td>\n",
       "      <td>9019</td>\n",
       "      <td>4803</td>\n",
       "      <td>1253</td>\n",
       "      <td>386</td>\n",
       "      <td>0.308061</td>\n",
       "      <td>30.0</td>\n",
       "      <td>0</td>\n",
       "    </tr>\n",
       "    <tr>\n",
       "      <th>3</th>\n",
       "      <td>04/29/2020</td>\n",
       "      <td>04/03/2020</td>\n",
       "      <td>9389</td>\n",
       "      <td>5523</td>\n",
       "      <td>1688</td>\n",
       "      <td>582</td>\n",
       "      <td>0.344787</td>\n",
       "      <td>30.0</td>\n",
       "      <td>0</td>\n",
       "    </tr>\n",
       "    <tr>\n",
       "      <th>4</th>\n",
       "      <td>04/29/2020</td>\n",
       "      <td>03/25/2020</td>\n",
       "      <td>7457</td>\n",
       "      <td>4803</td>\n",
       "      <td>1395</td>\n",
       "      <td>429</td>\n",
       "      <td>0.307527</td>\n",
       "      <td>30.0</td>\n",
       "      <td>0</td>\n",
       "    </tr>\n",
       "    <tr>\n",
       "      <th>5</th>\n",
       "      <td>04/29/2020</td>\n",
       "      <td>03/21/2020</td>\n",
       "      <td>4713</td>\n",
       "      <td>2663</td>\n",
       "      <td>757</td>\n",
       "      <td>231</td>\n",
       "      <td>0.305152</td>\n",
       "      <td>30.0</td>\n",
       "      <td>0</td>\n",
       "    </tr>\n",
       "    <tr>\n",
       "      <th>6</th>\n",
       "      <td>04/29/2020</td>\n",
       "      <td>03/20/2020</td>\n",
       "      <td>7756</td>\n",
       "      <td>4121</td>\n",
       "      <td>889</td>\n",
       "      <td>237</td>\n",
       "      <td>0.266592</td>\n",
       "      <td>30.0</td>\n",
       "      <td>0</td>\n",
       "    </tr>\n",
       "    <tr>\n",
       "      <th>7</th>\n",
       "      <td>04/29/2020</td>\n",
       "      <td>03/14/2020</td>\n",
       "      <td>1702</td>\n",
       "      <td>684</td>\n",
       "      <td>217</td>\n",
       "      <td>59</td>\n",
       "      <td>0.271889</td>\n",
       "      <td>30.0</td>\n",
       "      <td>0</td>\n",
       "    </tr>\n",
       "    <tr>\n",
       "      <th>8</th>\n",
       "      <td>04/29/2020</td>\n",
       "      <td>04/24/2020</td>\n",
       "      <td>8683</td>\n",
       "      <td>2092</td>\n",
       "      <td>230</td>\n",
       "      <td>18</td>\n",
       "      <td>0.078261</td>\n",
       "      <td>10.0</td>\n",
       "      <td>0</td>\n",
       "    </tr>\n",
       "    <tr>\n",
       "      <th>9</th>\n",
       "      <td>04/29/2020</td>\n",
       "      <td>03/08/2020</td>\n",
       "      <td>109</td>\n",
       "      <td>27</td>\n",
       "      <td>15</td>\n",
       "      <td>4</td>\n",
       "      <td>0.266667</td>\n",
       "      <td>30.0</td>\n",
       "      <td>0</td>\n",
       "    </tr>\n",
       "  </tbody>\n",
       "</table>\n",
       "</div>"
      ],
      "text/plain": [
       "  extract_date specimen_date  Number_tested  Number_confirmed  \\\n",
       "0   04/29/2020    04/17/2020           9979              3386   \n",
       "1   04/29/2020    03/05/2020             63                 5   \n",
       "2   04/29/2020    04/09/2020           9019              4803   \n",
       "3   04/29/2020    04/03/2020           9389              5523   \n",
       "4   04/29/2020    03/25/2020           7457              4803   \n",
       "5   04/29/2020    03/21/2020           4713              2663   \n",
       "6   04/29/2020    03/20/2020           7756              4121   \n",
       "7   04/29/2020    03/14/2020           1702               684   \n",
       "8   04/29/2020    04/24/2020           8683              2092   \n",
       "9   04/29/2020    03/08/2020            109                27   \n",
       "\n",
       "   Number_hospitalized  Number_deaths  risk_of_death  death_chance  \\\n",
       "0                  527             96       0.182163          20.0   \n",
       "1                    3              1       0.333333          30.0   \n",
       "2                 1253            386       0.308061          30.0   \n",
       "3                 1688            582       0.344787          30.0   \n",
       "4                 1395            429       0.307527          30.0   \n",
       "5                  757            231       0.305152          30.0   \n",
       "6                  889            237       0.266592          30.0   \n",
       "7                  217             59       0.271889          30.0   \n",
       "8                  230             18       0.078261          10.0   \n",
       "9                   15              4       0.266667          30.0   \n",
       "\n",
       "  death_probability  \n",
       "0                 0  \n",
       "1                 0  \n",
       "2                 0  \n",
       "3                 0  \n",
       "4                 0  \n",
       "5                 0  \n",
       "6                 0  \n",
       "7                 0  \n",
       "8                 0  \n",
       "9                 0  "
      ]
     },
     "execution_count": 33,
     "metadata": {},
     "output_type": "execute_result"
    }
   ],
   "source": [
    "death_chance_df.head(10)"
   ]
  },
  {
   "cell_type": "code",
   "execution_count": 34,
   "metadata": {},
   "outputs": [],
   "source": [
    "new_death_chance_df=death_chance_df.dropna()"
   ]
  },
  {
   "cell_type": "code",
   "execution_count": 35,
   "metadata": {
    "scrolled": true
   },
   "outputs": [
    {
     "name": "stdout",
     "output_type": "stream",
     "text": [
      "        extract_date  specimen_date  Number_tested  Number_confirmed  \\\n",
      "0                NaN            NaN           9979              3386   \n",
      "1                NaN            NaN             63                 5   \n",
      "2                NaN            NaN           9019              4803   \n",
      "3                NaN            NaN           9389              5523   \n",
      "4                NaN            NaN           7457              4803   \n",
      "...              ...            ...            ...               ...   \n",
      "162771           NaN            NaN          21551              2483   \n",
      "162772           NaN            NaN          13961              1678   \n",
      "162773           NaN            NaN            401                89   \n",
      "162774           NaN            NaN          14573               503   \n",
      "162775           NaN            NaN          18765              1648   \n",
      "\n",
      "        Number_hospitalized  Number_deaths  risk_of_death  death_chance  \\\n",
      "0                       527             96       0.182163          20.0   \n",
      "1                         3              1       0.333333          30.0   \n",
      "2                      1253            386       0.308061          30.0   \n",
      "3                      1688            582       0.344787          30.0   \n",
      "4                      1395            429       0.307527          30.0   \n",
      "...                     ...            ...            ...           ...   \n",
      "162771                  163             41       0.251534          30.0   \n",
      "162772                  166             27       0.162651          20.0   \n",
      "162773                   36             19       0.527778          50.0   \n",
      "162774                   38              0       0.000000           0.0   \n",
      "162775                  147             33       0.224490          20.0   \n",
      "\n",
      "        death_probability  \n",
      "0                     0.0  \n",
      "1                     0.0  \n",
      "2                     0.0  \n",
      "3                     0.0  \n",
      "4                     0.0  \n",
      "...                   ...  \n",
      "162771                0.0  \n",
      "162772                0.0  \n",
      "162773                1.0  \n",
      "162774                NaN  \n",
      "162775                0.0  \n",
      "\n",
      "[162776 rows x 9 columns]\n"
     ]
    }
   ],
   "source": [
    "new_death_chance_df = death_chance_df.apply (pd.to_numeric, errors='coerce')\n",
    "\n",
    "print (new_death_chance_df)"
   ]
  },
  {
   "cell_type": "code",
   "execution_count": 36,
   "metadata": {},
   "outputs": [],
   "source": [
    "output_file_path = \"../project/COVID_deaths_chance.csv\"\n",
    "death_chance_df.to_csv(output_file_path, index=False)"
   ]
  },
  {
   "cell_type": "code",
   "execution_count": 37,
   "metadata": {},
   "outputs": [
    {
     "data": {
      "text/html": [
       "<div>\n",
       "<style scoped>\n",
       "    .dataframe tbody tr th:only-of-type {\n",
       "        vertical-align: middle;\n",
       "    }\n",
       "\n",
       "    .dataframe tbody tr th {\n",
       "        vertical-align: top;\n",
       "    }\n",
       "\n",
       "    .dataframe thead th {\n",
       "        text-align: right;\n",
       "    }\n",
       "</style>\n",
       "<table border=\"1\" class=\"dataframe\">\n",
       "  <thead>\n",
       "    <tr style=\"text-align: right;\">\n",
       "      <th></th>\n",
       "      <th>extract_date</th>\n",
       "      <th>specimen_date</th>\n",
       "      <th>Number_tested</th>\n",
       "      <th>Number_confirmed</th>\n",
       "      <th>Number_hospitalized</th>\n",
       "      <th>Number_deaths</th>\n",
       "      <th>risk_of_death</th>\n",
       "      <th>death_chance</th>\n",
       "      <th>death_probability</th>\n",
       "    </tr>\n",
       "  </thead>\n",
       "  <tbody>\n",
       "    <tr>\n",
       "      <th>0</th>\n",
       "      <td>04/29/2020</td>\n",
       "      <td>04/17/2020</td>\n",
       "      <td>9979</td>\n",
       "      <td>3386</td>\n",
       "      <td>527</td>\n",
       "      <td>96</td>\n",
       "      <td>0.182163</td>\n",
       "      <td>20.0</td>\n",
       "      <td>0.0</td>\n",
       "    </tr>\n",
       "    <tr>\n",
       "      <th>1</th>\n",
       "      <td>04/29/2020</td>\n",
       "      <td>03/05/2020</td>\n",
       "      <td>63</td>\n",
       "      <td>5</td>\n",
       "      <td>3</td>\n",
       "      <td>1</td>\n",
       "      <td>0.333333</td>\n",
       "      <td>30.0</td>\n",
       "      <td>0.0</td>\n",
       "    </tr>\n",
       "    <tr>\n",
       "      <th>2</th>\n",
       "      <td>04/29/2020</td>\n",
       "      <td>04/09/2020</td>\n",
       "      <td>9019</td>\n",
       "      <td>4803</td>\n",
       "      <td>1253</td>\n",
       "      <td>386</td>\n",
       "      <td>0.308061</td>\n",
       "      <td>30.0</td>\n",
       "      <td>0.0</td>\n",
       "    </tr>\n",
       "    <tr>\n",
       "      <th>3</th>\n",
       "      <td>04/29/2020</td>\n",
       "      <td>04/03/2020</td>\n",
       "      <td>9389</td>\n",
       "      <td>5523</td>\n",
       "      <td>1688</td>\n",
       "      <td>582</td>\n",
       "      <td>0.344787</td>\n",
       "      <td>30.0</td>\n",
       "      <td>0.0</td>\n",
       "    </tr>\n",
       "    <tr>\n",
       "      <th>4</th>\n",
       "      <td>04/29/2020</td>\n",
       "      <td>03/25/2020</td>\n",
       "      <td>7457</td>\n",
       "      <td>4803</td>\n",
       "      <td>1395</td>\n",
       "      <td>429</td>\n",
       "      <td>0.307527</td>\n",
       "      <td>30.0</td>\n",
       "      <td>0.0</td>\n",
       "    </tr>\n",
       "    <tr>\n",
       "      <th>...</th>\n",
       "      <td>...</td>\n",
       "      <td>...</td>\n",
       "      <td>...</td>\n",
       "      <td>...</td>\n",
       "      <td>...</td>\n",
       "      <td>...</td>\n",
       "      <td>...</td>\n",
       "      <td>...</td>\n",
       "      <td>...</td>\n",
       "    </tr>\n",
       "    <tr>\n",
       "      <th>162771</th>\n",
       "      <td>10/01/2021</td>\n",
       "      <td>11/18/2020</td>\n",
       "      <td>21551</td>\n",
       "      <td>2483</td>\n",
       "      <td>163</td>\n",
       "      <td>41</td>\n",
       "      <td>0.251534</td>\n",
       "      <td>30.0</td>\n",
       "      <td>0.0</td>\n",
       "    </tr>\n",
       "    <tr>\n",
       "      <th>162772</th>\n",
       "      <td>10/01/2021</td>\n",
       "      <td>03/17/2021</td>\n",
       "      <td>13961</td>\n",
       "      <td>1678</td>\n",
       "      <td>166</td>\n",
       "      <td>27</td>\n",
       "      <td>0.162651</td>\n",
       "      <td>20.0</td>\n",
       "      <td>0.0</td>\n",
       "    </tr>\n",
       "    <tr>\n",
       "      <th>162773</th>\n",
       "      <td>10/01/2021</td>\n",
       "      <td>03/09/2020</td>\n",
       "      <td>401</td>\n",
       "      <td>89</td>\n",
       "      <td>36</td>\n",
       "      <td>19</td>\n",
       "      <td>0.527778</td>\n",
       "      <td>50.0</td>\n",
       "      <td>1.0</td>\n",
       "    </tr>\n",
       "    <tr>\n",
       "      <th>162774</th>\n",
       "      <td>10/01/2021</td>\n",
       "      <td>09/10/2021</td>\n",
       "      <td>14573</td>\n",
       "      <td>503</td>\n",
       "      <td>38</td>\n",
       "      <td>0</td>\n",
       "      <td>0.000000</td>\n",
       "      <td>0.0</td>\n",
       "      <td>NaN</td>\n",
       "    </tr>\n",
       "    <tr>\n",
       "      <th>162775</th>\n",
       "      <td>10/01/2021</td>\n",
       "      <td>09/04/2020</td>\n",
       "      <td>18765</td>\n",
       "      <td>1648</td>\n",
       "      <td>147</td>\n",
       "      <td>33</td>\n",
       "      <td>0.224490</td>\n",
       "      <td>20.0</td>\n",
       "      <td>0.0</td>\n",
       "    </tr>\n",
       "  </tbody>\n",
       "</table>\n",
       "<p>162776 rows × 9 columns</p>\n",
       "</div>"
      ],
      "text/plain": [
       "       extract_date specimen_date  Number_tested  Number_confirmed  \\\n",
       "0        04/29/2020    04/17/2020           9979              3386   \n",
       "1        04/29/2020    03/05/2020             63                 5   \n",
       "2        04/29/2020    04/09/2020           9019              4803   \n",
       "3        04/29/2020    04/03/2020           9389              5523   \n",
       "4        04/29/2020    03/25/2020           7457              4803   \n",
       "...             ...           ...            ...               ...   \n",
       "162771   10/01/2021    11/18/2020          21551              2483   \n",
       "162772   10/01/2021    03/17/2021          13961              1678   \n",
       "162773   10/01/2021    03/09/2020            401                89   \n",
       "162774   10/01/2021    09/10/2021          14573               503   \n",
       "162775   10/01/2021    09/04/2020          18765              1648   \n",
       "\n",
       "        Number_hospitalized  Number_deaths  risk_of_death  death_chance  \\\n",
       "0                       527             96       0.182163          20.0   \n",
       "1                         3              1       0.333333          30.0   \n",
       "2                      1253            386       0.308061          30.0   \n",
       "3                      1688            582       0.344787          30.0   \n",
       "4                      1395            429       0.307527          30.0   \n",
       "...                     ...            ...            ...           ...   \n",
       "162771                  163             41       0.251534          30.0   \n",
       "162772                  166             27       0.162651          20.0   \n",
       "162773                   36             19       0.527778          50.0   \n",
       "162774                   38              0       0.000000           0.0   \n",
       "162775                  147             33       0.224490          20.0   \n",
       "\n",
       "        death_probability  \n",
       "0                     0.0  \n",
       "1                     0.0  \n",
       "2                     0.0  \n",
       "3                     0.0  \n",
       "4                     0.0  \n",
       "...                   ...  \n",
       "162771                0.0  \n",
       "162772                0.0  \n",
       "162773                1.0  \n",
       "162774                NaN  \n",
       "162775                0.0  \n",
       "\n",
       "[162776 rows x 9 columns]"
      ]
     },
     "execution_count": 37,
     "metadata": {},
     "output_type": "execute_result"
    }
   ],
   "source": [
    "death_probability_df=pd.read_csv('../project/COVID_deaths_chance.csv')\n",
    "death_probability_df"
   ]
  },
  {
   "cell_type": "code",
   "execution_count": 38,
   "metadata": {},
   "outputs": [
    {
     "data": {
      "text/plain": [
       "extract_date           False\n",
       "specimen_date          False\n",
       "Number_tested          False\n",
       "Number_confirmed       False\n",
       "Number_hospitalized    False\n",
       "Number_deaths          False\n",
       "risk_of_death          False\n",
       "death_chance           False\n",
       "death_probability       True\n",
       "dtype: bool"
      ]
     },
     "execution_count": 38,
     "metadata": {},
     "output_type": "execute_result"
    }
   ],
   "source": [
    "death_probability_df.isnull().any()"
   ]
  },
  {
   "cell_type": "code",
   "execution_count": 62,
   "metadata": {},
   "outputs": [],
   "source": [
    "#death_probability_df=death_probability_df.dropna()\n",
    "#death_probability_df"
   ]
  },
  {
   "cell_type": "code",
   "execution_count": 40,
   "metadata": {},
   "outputs": [
    {
     "name": "stderr",
     "output_type": "stream",
     "text": [
      "C:\\Users\\sushm\\anaconda3\\envs\\mlenv\\lib\\site-packages\\ipykernel_launcher.py:2: SettingWithCopyWarning: \n",
      "A value is trying to be set on a copy of a slice from a DataFrame.\n",
      "Try using .loc[row_indexer,col_indexer] = value instead\n",
      "\n",
      "See the caveats in the documentation: https://pandas.pydata.org/pandas-docs/stable/user_guide/indexing.html#returning-a-view-versus-a-copy\n",
      "  \n"
     ]
    }
   ],
   "source": [
    "#changing data type for specimen_date from object to datetime64[ns]\n",
    "death_probability_df['specimen_date']=pd.to_datetime(death_probability_df['specimen_date'],infer_datetime_format=True,errors='coerce')"
   ]
  },
  {
   "cell_type": "code",
   "execution_count": 41,
   "metadata": {},
   "outputs": [
    {
     "name": "stderr",
     "output_type": "stream",
     "text": [
      "C:\\Users\\sushm\\anaconda3\\envs\\mlenv\\lib\\site-packages\\ipykernel_launcher.py:2: FutureWarning: casting datetime64[ns] values to int64 with .astype(...) is deprecated and will raise in a future version. Use .view(...) instead.\n",
      "  \n",
      "C:\\Users\\sushm\\anaconda3\\envs\\mlenv\\lib\\site-packages\\pandas\\core\\generic.py:5516: SettingWithCopyWarning: \n",
      "A value is trying to be set on a copy of a slice from a DataFrame.\n",
      "Try using .loc[row_indexer,col_indexer] = value instead\n",
      "\n",
      "See the caveats in the documentation: https://pandas.pydata.org/pandas-docs/stable/user_guide/indexing.html#returning-a-view-versus-a-copy\n",
      "  self[name] = value\n"
     ]
    }
   ],
   "source": [
    "#changing data type for specimen_date from datetime64[ns] to  int64\n",
    "death_probability_df.specimen_date=death_probability_df.specimen_date.astype('datetime64[ns]').astype(np.int64)"
   ]
  },
  {
   "cell_type": "code",
   "execution_count": 61,
   "metadata": {},
   "outputs": [],
   "source": [
    "#death_probability_df"
   ]
  },
  {
   "cell_type": "code",
   "execution_count": 43,
   "metadata": {},
   "outputs": [
    {
     "data": {
      "text/html": [
       "<div>\n",
       "<style scoped>\n",
       "    .dataframe tbody tr th:only-of-type {\n",
       "        vertical-align: middle;\n",
       "    }\n",
       "\n",
       "    .dataframe tbody tr th {\n",
       "        vertical-align: top;\n",
       "    }\n",
       "\n",
       "    .dataframe thead th {\n",
       "        text-align: right;\n",
       "    }\n",
       "</style>\n",
       "<table border=\"1\" class=\"dataframe\">\n",
       "  <thead>\n",
       "    <tr style=\"text-align: right;\">\n",
       "      <th></th>\n",
       "      <th>extract_date</th>\n",
       "      <th>specimen_date</th>\n",
       "      <th>Number_tested</th>\n",
       "      <th>Number_confirmed</th>\n",
       "      <th>Number_hospitalized</th>\n",
       "      <th>Number_deaths</th>\n",
       "      <th>risk_of_death</th>\n",
       "      <th>death_chance</th>\n",
       "      <th>death_probability</th>\n",
       "    </tr>\n",
       "  </thead>\n",
       "  <tbody>\n",
       "    <tr>\n",
       "      <th>0</th>\n",
       "      <td>04/29/2020</td>\n",
       "      <td>1587081600000000000</td>\n",
       "      <td>9979</td>\n",
       "      <td>3386</td>\n",
       "      <td>527</td>\n",
       "      <td>96</td>\n",
       "      <td>0.182163</td>\n",
       "      <td>20.0</td>\n",
       "      <td>0.0</td>\n",
       "    </tr>\n",
       "    <tr>\n",
       "      <th>1</th>\n",
       "      <td>04/29/2020</td>\n",
       "      <td>1583366400000000000</td>\n",
       "      <td>63</td>\n",
       "      <td>5</td>\n",
       "      <td>3</td>\n",
       "      <td>1</td>\n",
       "      <td>0.333333</td>\n",
       "      <td>30.0</td>\n",
       "      <td>0.0</td>\n",
       "    </tr>\n",
       "    <tr>\n",
       "      <th>2</th>\n",
       "      <td>04/29/2020</td>\n",
       "      <td>1586390400000000000</td>\n",
       "      <td>9019</td>\n",
       "      <td>4803</td>\n",
       "      <td>1253</td>\n",
       "      <td>386</td>\n",
       "      <td>0.308061</td>\n",
       "      <td>30.0</td>\n",
       "      <td>0.0</td>\n",
       "    </tr>\n",
       "    <tr>\n",
       "      <th>3</th>\n",
       "      <td>04/29/2020</td>\n",
       "      <td>1585872000000000000</td>\n",
       "      <td>9389</td>\n",
       "      <td>5523</td>\n",
       "      <td>1688</td>\n",
       "      <td>582</td>\n",
       "      <td>0.344787</td>\n",
       "      <td>30.0</td>\n",
       "      <td>0.0</td>\n",
       "    </tr>\n",
       "    <tr>\n",
       "      <th>4</th>\n",
       "      <td>04/29/2020</td>\n",
       "      <td>1585094400000000000</td>\n",
       "      <td>7457</td>\n",
       "      <td>4803</td>\n",
       "      <td>1395</td>\n",
       "      <td>429</td>\n",
       "      <td>0.307527</td>\n",
       "      <td>30.0</td>\n",
       "      <td>0.0</td>\n",
       "    </tr>\n",
       "    <tr>\n",
       "      <th>...</th>\n",
       "      <td>...</td>\n",
       "      <td>...</td>\n",
       "      <td>...</td>\n",
       "      <td>...</td>\n",
       "      <td>...</td>\n",
       "      <td>...</td>\n",
       "      <td>...</td>\n",
       "      <td>...</td>\n",
       "      <td>...</td>\n",
       "    </tr>\n",
       "    <tr>\n",
       "      <th>162770</th>\n",
       "      <td>10/01/2021</td>\n",
       "      <td>1600646400000000000</td>\n",
       "      <td>17624</td>\n",
       "      <td>1696</td>\n",
       "      <td>161</td>\n",
       "      <td>30</td>\n",
       "      <td>0.186335</td>\n",
       "      <td>20.0</td>\n",
       "      <td>0.0</td>\n",
       "    </tr>\n",
       "    <tr>\n",
       "      <th>162771</th>\n",
       "      <td>10/01/2021</td>\n",
       "      <td>1605657600000000000</td>\n",
       "      <td>21551</td>\n",
       "      <td>2483</td>\n",
       "      <td>163</td>\n",
       "      <td>41</td>\n",
       "      <td>0.251534</td>\n",
       "      <td>30.0</td>\n",
       "      <td>0.0</td>\n",
       "    </tr>\n",
       "    <tr>\n",
       "      <th>162772</th>\n",
       "      <td>10/01/2021</td>\n",
       "      <td>1615939200000000000</td>\n",
       "      <td>13961</td>\n",
       "      <td>1678</td>\n",
       "      <td>166</td>\n",
       "      <td>27</td>\n",
       "      <td>0.162651</td>\n",
       "      <td>20.0</td>\n",
       "      <td>0.0</td>\n",
       "    </tr>\n",
       "    <tr>\n",
       "      <th>162773</th>\n",
       "      <td>10/01/2021</td>\n",
       "      <td>1583712000000000000</td>\n",
       "      <td>401</td>\n",
       "      <td>89</td>\n",
       "      <td>36</td>\n",
       "      <td>19</td>\n",
       "      <td>0.527778</td>\n",
       "      <td>50.0</td>\n",
       "      <td>1.0</td>\n",
       "    </tr>\n",
       "    <tr>\n",
       "      <th>162775</th>\n",
       "      <td>10/01/2021</td>\n",
       "      <td>1599177600000000000</td>\n",
       "      <td>18765</td>\n",
       "      <td>1648</td>\n",
       "      <td>147</td>\n",
       "      <td>33</td>\n",
       "      <td>0.224490</td>\n",
       "      <td>20.0</td>\n",
       "      <td>0.0</td>\n",
       "    </tr>\n",
       "  </tbody>\n",
       "</table>\n",
       "<p>148080 rows × 9 columns</p>\n",
       "</div>"
      ],
      "text/plain": [
       "       extract_date        specimen_date  Number_tested  Number_confirmed  \\\n",
       "0        04/29/2020  1587081600000000000           9979              3386   \n",
       "1        04/29/2020  1583366400000000000             63                 5   \n",
       "2        04/29/2020  1586390400000000000           9019              4803   \n",
       "3        04/29/2020  1585872000000000000           9389              5523   \n",
       "4        04/29/2020  1585094400000000000           7457              4803   \n",
       "...             ...                  ...            ...               ...   \n",
       "162770   10/01/2021  1600646400000000000          17624              1696   \n",
       "162771   10/01/2021  1605657600000000000          21551              2483   \n",
       "162772   10/01/2021  1615939200000000000          13961              1678   \n",
       "162773   10/01/2021  1583712000000000000            401                89   \n",
       "162775   10/01/2021  1599177600000000000          18765              1648   \n",
       "\n",
       "        Number_hospitalized  Number_deaths  risk_of_death  death_chance  \\\n",
       "0                       527             96       0.182163          20.0   \n",
       "1                         3              1       0.333333          30.0   \n",
       "2                      1253            386       0.308061          30.0   \n",
       "3                      1688            582       0.344787          30.0   \n",
       "4                      1395            429       0.307527          30.0   \n",
       "...                     ...            ...            ...           ...   \n",
       "162770                  161             30       0.186335          20.0   \n",
       "162771                  163             41       0.251534          30.0   \n",
       "162772                  166             27       0.162651          20.0   \n",
       "162773                   36             19       0.527778          50.0   \n",
       "162775                  147             33       0.224490          20.0   \n",
       "\n",
       "        death_probability  \n",
       "0                     0.0  \n",
       "1                     0.0  \n",
       "2                     0.0  \n",
       "3                     0.0  \n",
       "4                     0.0  \n",
       "...                   ...  \n",
       "162770                0.0  \n",
       "162771                0.0  \n",
       "162772                0.0  \n",
       "162773                1.0  \n",
       "162775                0.0  \n",
       "\n",
       "[148080 rows x 9 columns]"
      ]
     },
     "execution_count": 43,
     "metadata": {},
     "output_type": "execute_result"
    }
   ],
   "source": [
    "death_probability_df=death_probability_df.dropna()\n",
    "death_probability_df"
   ]
  },
  {
   "cell_type": "code",
   "execution_count": 44,
   "metadata": {},
   "outputs": [
    {
     "data": {
      "text/plain": [
       "extract_date            object\n",
       "specimen_date            int64\n",
       "Number_tested            int64\n",
       "Number_confirmed         int64\n",
       "Number_hospitalized      int64\n",
       "Number_deaths            int64\n",
       "risk_of_death          float64\n",
       "death_chance           float64\n",
       "death_probability      float64\n",
       "dtype: object"
      ]
     },
     "execution_count": 44,
     "metadata": {},
     "output_type": "execute_result"
    }
   ],
   "source": [
    "#death_probability_df.dtypes"
   ]
  },
  {
   "cell_type": "code",
   "execution_count": 45,
   "metadata": {},
   "outputs": [],
   "source": [
    "#Separate the Features (X) from the Target (y)"
   ]
  },
  {
   "cell_type": "code",
   "execution_count": 46,
   "metadata": {},
   "outputs": [],
   "source": [
    "y = death_probability_df[\"death_probability\"]\n",
    "X = death_probability_df.drop(columns=\"death_probability\")"
   ]
  },
  {
   "cell_type": "code",
   "execution_count": 47,
   "metadata": {},
   "outputs": [
    {
     "data": {
      "text/plain": [
       "(111060, 8)"
      ]
     },
     "execution_count": 47,
     "metadata": {},
     "output_type": "execute_result"
    }
   ],
   "source": [
    "#Split  data into training and testing\n",
    "from sklearn.model_selection import train_test_split\n",
    "\n",
    "X_train, X_test, y_train, y_test = train_test_split(X, \n",
    "                                                    y, \n",
    "                                                    random_state=1, \n",
    "                                                    stratify=y)\n",
    "X_train.shape"
   ]
  },
  {
   "cell_type": "code",
   "execution_count": 48,
   "metadata": {},
   "outputs": [],
   "source": [
    "#Create a Logistic Regression Model\n",
    "#from sklearn.linear_model import LogisticRegression\n",
    "#classifier = LogisticRegression(solver='lbfgs',\n",
    "                                max_iter=200,\n",
    "                                random_state=1)"
   ]
  },
  {
   "cell_type": "code",
   "execution_count": 60,
   "metadata": {},
   "outputs": [],
   "source": [
    "#Fit (train) or model using the training data\n",
    "#classifier.fit(X_train, y_train)"
   ]
  },
  {
   "cell_type": "code",
   "execution_count": 50,
   "metadata": {},
   "outputs": [
    {
     "data": {
      "text/plain": [
       "0.0    128512\n",
       "1.0     19568\n",
       "Name: death_probability, dtype: int64"
      ]
     },
     "execution_count": 50,
     "metadata": {},
     "output_type": "execute_result"
    }
   ],
   "source": [
    "y.value_counts()"
   ]
  },
  {
   "cell_type": "code",
   "execution_count": 51,
   "metadata": {},
   "outputs": [],
   "source": [
    "import seaborn as sns"
   ]
  },
  {
   "cell_type": "code",
   "execution_count": 52,
   "metadata": {},
   "outputs": [
    {
     "data": {
      "image/png": "[encoded data removed]",
      "text/plain": [
       "<Figure size 432x288 with 1 Axes>"
      ]
     },
     "metadata": {
      "needs_background": "light"
     },
     "output_type": "display_data"
    },
    {
     "data": {
      "text/plain": [
       "<Figure size 432x288 with 0 Axes>"
      ]
     },
     "metadata": {},
     "output_type": "display_data"
    }
   ],
   "source": [
    "sns.countplot(x=y,data=death_probability_df,palette='hls')\n",
    "plt.show()\n",
    "plt.savefig('count_plot')"
   ]
  },
  {
   "cell_type": "code",
   "execution_count": 53,
   "metadata": {},
   "outputs": [
    {
     "data": {
      "text/plain": [
       "<AxesSubplot:>"
      ]
     },
     "execution_count": 53,
     "metadata": {},
     "output_type": "execute_result"
    },
    {
     "data": {
      "image/png": "[encoded data removed]",
      "text/plain": [
       "<Figure size 432x288 with 2 Axes>"
      ]
     },
     "metadata": {
      "needs_background": "light"
     },
     "output_type": "display_data"
    }
   ],
   "source": [
    "import seaborn as sns\n",
    "sns.heatmap(death_probability_df.corr(),cmap='Blues',annot=True)"
   ]
  },
  {
   "cell_type": "code",
   "execution_count": 54,
   "metadata": {},
   "outputs": [
    {
     "data": {
      "text/plain": [
       "128512"
      ]
     },
     "execution_count": 54,
     "metadata": {},
     "output_type": "execute_result"
    }
   ],
   "source": [
    "count_no_death = len(death_probability_df[death_probability_df['death_probability']==0])\n",
    "count_no_death"
   ]
  },
  {
   "cell_type": "code",
   "execution_count": 55,
   "metadata": {},
   "outputs": [
    {
     "data": {
      "text/plain": [
       "19568"
      ]
     },
     "execution_count": 55,
     "metadata": {},
     "output_type": "execute_result"
    }
   ],
   "source": [
    "count_death = len(death_probability_df[death_probability_df['death_probability']==1])\n",
    "count_death"
   ]
  },
  {
   "cell_type": "code",
   "execution_count": 59,
   "metadata": {},
   "outputs": [
    {
     "name": "stdout",
     "output_type": "stream",
     "text": [
      "percentage of no death prob is 86.78552133981631\n",
      "percentage of death prob 13.214478660183685\n"
     ]
    }
   ],
   "source": [
    "pct_of_no_death_prob = count_no_death/(count_no_death+count_death)\n",
    "print(\"percentage of no death prob is\", pct_of_no_death_prob*100)\n",
    "pct_of_death_prob = count_death/(count_no_death+count_death)\n",
    "print(\"percentage of death prob\", pct_of_death_prob*100)"
   ]
  },
  {
   "cell_type": "markdown",
   "metadata": {},
   "source": []
  },
  {
   "cell_type": "code",
   "execution_count": 58,
   "metadata": {},
   "outputs": [
    {
     "data": {
      "text/plain": [
       "<AxesSubplot:xlabel='Number_hospitalized', ylabel='death_probability'>"
      ]
     },
     "execution_count": 58,
     "metadata": {},
     "output_type": "execute_result"
    },
    {
     "data": {
      "image/png": "[encoded data removed]",
      "text/plain": [
       "<Figure size 432x288 with 1 Axes>"
      ]
     },
     "metadata": {
      "needs_background": "light"
     },
     "output_type": "display_data"
    }
   ],
   "source": [
    "sns.regplot(x=death_probability_df.Number_hospitalized,y=death_probability_df.death_probability)"
   ]
  },
  {
   "cell_type": "code",
   "execution_count": null,
   "metadata": {},
   "outputs": [],
   "source": []
  }
 ],
 "metadata": {
  "kernelspec": {
   "display_name": "mlenv",
   "language": "python",
   "name": "mlenv"
  },
  "language_info": {
   "codemirror_mode": {
    "name": "ipython",
    "version": 3
   },
   "file_extension": ".py",
   "mimetype": "text/x-python",
   "name": "python",
   "nbconvert_exporter": "python",
   "pygments_lexer": "ipython3",
   "version": "3.7.13"
  }
 },
 "nbformat": 4,
 "nbformat_minor": 4
}
