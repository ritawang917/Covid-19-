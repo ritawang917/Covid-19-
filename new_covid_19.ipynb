{
 "cells": [
  {
   "cell_type": "code",
   "execution_count": 1,
   "id": "35ea04fe",
   "metadata": {},
   "outputs": [],
   "source": [
    "import warnings\n",
    "warnings.filterwarnings('ignore')"
   ]
  },
  {
   "cell_type": "code",
   "execution_count": 2,
   "id": "ce79fb81",
   "metadata": {},
   "outputs": [],
   "source": [
    "import numpy as np\n",
    "import pandas as pd\n",
    "from pathlib import Path\n",
    "import matplotlib.pyplot as plt\n",
    "from collections import Counter\n",
    "from sklearn.linear_model import LinearRegression"
   ]
  },
  {
   "cell_type": "code",
   "execution_count": 3,
   "id": "f9b78ead",
   "metadata": {},
   "outputs": [
    {
     "data": {
      "text/html": [
       "<div>\n",
       "<style scoped>\n",
       "    .dataframe tbody tr th:only-of-type {\n",
       "        vertical-align: middle;\n",
       "    }\n",
       "\n",
       "    .dataframe tbody tr th {\n",
       "        vertical-align: top;\n",
       "    }\n",
       "\n",
       "    .dataframe thead th {\n",
       "        text-align: right;\n",
       "    }\n",
       "</style>\n",
       "<table border=\"1\" class=\"dataframe\">\n",
       "  <thead>\n",
       "    <tr style=\"text-align: right;\">\n",
       "      <th></th>\n",
       "      <th>extract_date</th>\n",
       "      <th>specimen_date</th>\n",
       "      <th>Number_tested</th>\n",
       "      <th>Number_confirmed</th>\n",
       "      <th>Number_hospitalized</th>\n",
       "      <th>Number_deaths</th>\n",
       "    </tr>\n",
       "  </thead>\n",
       "  <tbody>\n",
       "    <tr>\n",
       "      <th>0</th>\n",
       "      <td>04/29/2020</td>\n",
       "      <td>04/17/2020</td>\n",
       "      <td>9979</td>\n",
       "      <td>3386</td>\n",
       "      <td>527</td>\n",
       "      <td>96</td>\n",
       "    </tr>\n",
       "    <tr>\n",
       "      <th>1</th>\n",
       "      <td>04/29/2020</td>\n",
       "      <td>02/08/2020</td>\n",
       "      <td>1</td>\n",
       "      <td>0</td>\n",
       "      <td>0</td>\n",
       "      <td>0</td>\n",
       "    </tr>\n",
       "    <tr>\n",
       "      <th>2</th>\n",
       "      <td>04/29/2020</td>\n",
       "      <td>03/05/2020</td>\n",
       "      <td>63</td>\n",
       "      <td>5</td>\n",
       "      <td>3</td>\n",
       "      <td>1</td>\n",
       "    </tr>\n",
       "    <tr>\n",
       "      <th>3</th>\n",
       "      <td>04/29/2020</td>\n",
       "      <td>04/09/2020</td>\n",
       "      <td>9019</td>\n",
       "      <td>4803</td>\n",
       "      <td>1253</td>\n",
       "      <td>386</td>\n",
       "    </tr>\n",
       "    <tr>\n",
       "      <th>4</th>\n",
       "      <td>04/29/2020</td>\n",
       "      <td>04/03/2020</td>\n",
       "      <td>9389</td>\n",
       "      <td>5523</td>\n",
       "      <td>1688</td>\n",
       "      <td>582</td>\n",
       "    </tr>\n",
       "    <tr>\n",
       "      <th>5</th>\n",
       "      <td>04/29/2020</td>\n",
       "      <td>03/25/2020</td>\n",
       "      <td>7457</td>\n",
       "      <td>4803</td>\n",
       "      <td>1395</td>\n",
       "      <td>429</td>\n",
       "    </tr>\n",
       "    <tr>\n",
       "      <th>6</th>\n",
       "      <td>04/29/2020</td>\n",
       "      <td>03/21/2020</td>\n",
       "      <td>4713</td>\n",
       "      <td>2663</td>\n",
       "      <td>757</td>\n",
       "      <td>231</td>\n",
       "    </tr>\n",
       "    <tr>\n",
       "      <th>7</th>\n",
       "      <td>04/29/2020</td>\n",
       "      <td>03/20/2020</td>\n",
       "      <td>7756</td>\n",
       "      <td>4121</td>\n",
       "      <td>889</td>\n",
       "      <td>237</td>\n",
       "    </tr>\n",
       "    <tr>\n",
       "      <th>8</th>\n",
       "      <td>04/29/2020</td>\n",
       "      <td>03/14/2020</td>\n",
       "      <td>1702</td>\n",
       "      <td>684</td>\n",
       "      <td>217</td>\n",
       "      <td>59</td>\n",
       "    </tr>\n",
       "    <tr>\n",
       "      <th>9</th>\n",
       "      <td>04/29/2020</td>\n",
       "      <td>04/24/2020</td>\n",
       "      <td>8683</td>\n",
       "      <td>2092</td>\n",
       "      <td>230</td>\n",
       "      <td>18</td>\n",
       "    </tr>\n",
       "  </tbody>\n",
       "</table>\n",
       "</div>"
      ],
      "text/plain": [
       "  extract_date specimen_date  Number_tested  Number_confirmed  \\\n",
       "0   04/29/2020    04/17/2020           9979              3386   \n",
       "1   04/29/2020    02/08/2020              1                 0   \n",
       "2   04/29/2020    03/05/2020             63                 5   \n",
       "3   04/29/2020    04/09/2020           9019              4803   \n",
       "4   04/29/2020    04/03/2020           9389              5523   \n",
       "5   04/29/2020    03/25/2020           7457              4803   \n",
       "6   04/29/2020    03/21/2020           4713              2663   \n",
       "7   04/29/2020    03/20/2020           7756              4121   \n",
       "8   04/29/2020    03/14/2020           1702               684   \n",
       "9   04/29/2020    04/24/2020           8683              2092   \n",
       "\n",
       "   Number_hospitalized  Number_deaths  \n",
       "0                  527             96  \n",
       "1                    0              0  \n",
       "2                    3              1  \n",
       "3                 1253            386  \n",
       "4                 1688            582  \n",
       "5                 1395            429  \n",
       "6                  757            231  \n",
       "7                  889            237  \n",
       "8                  217             59  \n",
       "9                  230             18  "
      ]
     },
     "execution_count": 3,
     "metadata": {},
     "output_type": "execute_result"
    }
   ],
   "source": [
    "df=pd.read_csv(\"../project/COVID-19.csv\")\n",
    "df.head(10)"
   ]
  },
  {
   "cell_type": "code",
   "execution_count": 4,
   "id": "cac13e1c",
   "metadata": {},
   "outputs": [
    {
     "data": {
      "text/plain": [
       "Index(['extract_date', 'specimen_date', 'Number_tested', 'Number_confirmed',\n",
       "       'Number_hospitalized', 'Number_deaths'],\n",
       "      dtype='object')"
      ]
     },
     "execution_count": 4,
     "metadata": {},
     "output_type": "execute_result"
    }
   ],
   "source": [
    "df.columns"
   ]
  },
  {
   "cell_type": "code",
   "execution_count": 5,
   "id": "7035ae3c",
   "metadata": {},
   "outputs": [
    {
     "data": {
      "text/plain": [
       "extract_date           object\n",
       "specimen_date          object\n",
       "Number_tested           int64\n",
       "Number_confirmed        int64\n",
       "Number_hospitalized     int64\n",
       "Number_deaths           int64\n",
       "dtype: object"
      ]
     },
     "execution_count": 5,
     "metadata": {},
     "output_type": "execute_result"
    }
   ],
   "source": [
    "df.dtypes"
   ]
  },
  {
   "cell_type": "code",
   "execution_count": 6,
   "id": "df04b54c",
   "metadata": {},
   "outputs": [],
   "source": [
    "df=df.dropna()"
   ]
  },
  {
   "cell_type": "code",
   "execution_count": 7,
   "id": "ffb2f79a",
   "metadata": {},
   "outputs": [
    {
     "name": "stdout",
     "output_type": "stream",
     "text": [
      "Duplicate entries:0\n"
     ]
    }
   ],
   "source": [
    "print(f\"Duplicate entries:{df.duplicated().sum()}\")"
   ]
  },
  {
   "cell_type": "code",
   "execution_count": 8,
   "id": "8d99b3b2",
   "metadata": {},
   "outputs": [
    {
     "data": {
      "text/plain": [
       "extract_date           176148\n",
       "specimen_date          176148\n",
       "Number_tested          176148\n",
       "Number_confirmed       176148\n",
       "Number_hospitalized    176148\n",
       "Number_deaths          176148\n",
       "dtype: int64"
      ]
     },
     "execution_count": 8,
     "metadata": {},
     "output_type": "execute_result"
    }
   ],
   "source": [
    "df.count()"
   ]
  },
  {
   "cell_type": "code",
   "execution_count": 9,
   "id": "4a8b8fd6",
   "metadata": {},
   "outputs": [
    {
     "data": {
      "text/html": [
       "<div>\n",
       "<style scoped>\n",
       "    .dataframe tbody tr th:only-of-type {\n",
       "        vertical-align: middle;\n",
       "    }\n",
       "\n",
       "    .dataframe tbody tr th {\n",
       "        vertical-align: top;\n",
       "    }\n",
       "\n",
       "    .dataframe thead th {\n",
       "        text-align: right;\n",
       "    }\n",
       "</style>\n",
       "<table border=\"1\" class=\"dataframe\">\n",
       "  <thead>\n",
       "    <tr style=\"text-align: right;\">\n",
       "      <th></th>\n",
       "      <th>specimen_date</th>\n",
       "      <th>Number_tested</th>\n",
       "      <th>Number_confirmed</th>\n",
       "      <th>Number_hospitalized</th>\n",
       "      <th>Number_deaths</th>\n",
       "    </tr>\n",
       "  </thead>\n",
       "  <tbody>\n",
       "    <tr>\n",
       "      <th>0</th>\n",
       "      <td>04/17/2020</td>\n",
       "      <td>9979</td>\n",
       "      <td>3386</td>\n",
       "      <td>527</td>\n",
       "      <td>96</td>\n",
       "    </tr>\n",
       "    <tr>\n",
       "      <th>1</th>\n",
       "      <td>02/08/2020</td>\n",
       "      <td>1</td>\n",
       "      <td>0</td>\n",
       "      <td>0</td>\n",
       "      <td>0</td>\n",
       "    </tr>\n",
       "    <tr>\n",
       "      <th>2</th>\n",
       "      <td>03/05/2020</td>\n",
       "      <td>63</td>\n",
       "      <td>5</td>\n",
       "      <td>3</td>\n",
       "      <td>1</td>\n",
       "    </tr>\n",
       "    <tr>\n",
       "      <th>3</th>\n",
       "      <td>04/09/2020</td>\n",
       "      <td>9019</td>\n",
       "      <td>4803</td>\n",
       "      <td>1253</td>\n",
       "      <td>386</td>\n",
       "    </tr>\n",
       "    <tr>\n",
       "      <th>4</th>\n",
       "      <td>04/03/2020</td>\n",
       "      <td>9389</td>\n",
       "      <td>5523</td>\n",
       "      <td>1688</td>\n",
       "      <td>582</td>\n",
       "    </tr>\n",
       "    <tr>\n",
       "      <th>5</th>\n",
       "      <td>03/25/2020</td>\n",
       "      <td>7457</td>\n",
       "      <td>4803</td>\n",
       "      <td>1395</td>\n",
       "      <td>429</td>\n",
       "    </tr>\n",
       "    <tr>\n",
       "      <th>6</th>\n",
       "      <td>03/21/2020</td>\n",
       "      <td>4713</td>\n",
       "      <td>2663</td>\n",
       "      <td>757</td>\n",
       "      <td>231</td>\n",
       "    </tr>\n",
       "    <tr>\n",
       "      <th>7</th>\n",
       "      <td>03/20/2020</td>\n",
       "      <td>7756</td>\n",
       "      <td>4121</td>\n",
       "      <td>889</td>\n",
       "      <td>237</td>\n",
       "    </tr>\n",
       "    <tr>\n",
       "      <th>8</th>\n",
       "      <td>03/14/2020</td>\n",
       "      <td>1702</td>\n",
       "      <td>684</td>\n",
       "      <td>217</td>\n",
       "      <td>59</td>\n",
       "    </tr>\n",
       "    <tr>\n",
       "      <th>9</th>\n",
       "      <td>04/24/2020</td>\n",
       "      <td>8683</td>\n",
       "      <td>2092</td>\n",
       "      <td>230</td>\n",
       "      <td>18</td>\n",
       "    </tr>\n",
       "  </tbody>\n",
       "</table>\n",
       "</div>"
      ],
      "text/plain": [
       "  specimen_date  Number_tested  Number_confirmed  Number_hospitalized  \\\n",
       "0    04/17/2020           9979              3386                  527   \n",
       "1    02/08/2020              1                 0                    0   \n",
       "2    03/05/2020             63                 5                    3   \n",
       "3    04/09/2020           9019              4803                 1253   \n",
       "4    04/03/2020           9389              5523                 1688   \n",
       "5    03/25/2020           7457              4803                 1395   \n",
       "6    03/21/2020           4713              2663                  757   \n",
       "7    03/20/2020           7756              4121                  889   \n",
       "8    03/14/2020           1702               684                  217   \n",
       "9    04/24/2020           8683              2092                  230   \n",
       "\n",
       "   Number_deaths  \n",
       "0             96  \n",
       "1              0  \n",
       "2              1  \n",
       "3            386  \n",
       "4            582  \n",
       "5            429  \n",
       "6            231  \n",
       "7            237  \n",
       "8             59  \n",
       "9             18  "
      ]
     },
     "execution_count": 9,
     "metadata": {},
     "output_type": "execute_result"
    }
   ],
   "source": [
    "new_df=df.drop(['extract_date'],axis=1)\n",
    "new_df.head(10)"
   ]
  },
  {
   "cell_type": "code",
   "execution_count": 10,
   "id": "abadf13e",
   "metadata": {},
   "outputs": [],
   "source": [
    "new_df['specimen_date']=pd.to_datetime(new_df['specimen_date'],infer_datetime_format=True,errors='coerce')"
   ]
  },
  {
   "cell_type": "code",
   "execution_count": 11,
   "id": "0f4b9b0b",
   "metadata": {},
   "outputs": [
    {
     "data": {
      "text/plain": [
       "specimen_date          datetime64[ns]\n",
       "Number_tested                   int64\n",
       "Number_confirmed                int64\n",
       "Number_hospitalized             int64\n",
       "Number_deaths                   int64\n",
       "dtype: object"
      ]
     },
     "execution_count": 11,
     "metadata": {},
     "output_type": "execute_result"
    }
   ],
   "source": [
    "new_df.dtypes"
   ]
  },
  {
   "cell_type": "code",
   "execution_count": 12,
   "id": "e6ce6335",
   "metadata": {},
   "outputs": [
    {
     "data": {
      "text/html": [
       "<div>\n",
       "<style scoped>\n",
       "    .dataframe tbody tr th:only-of-type {\n",
       "        vertical-align: middle;\n",
       "    }\n",
       "\n",
       "    .dataframe tbody tr th {\n",
       "        vertical-align: top;\n",
       "    }\n",
       "\n",
       "    .dataframe thead th {\n",
       "        text-align: right;\n",
       "    }\n",
       "</style>\n",
       "<table border=\"1\" class=\"dataframe\">\n",
       "  <thead>\n",
       "    <tr style=\"text-align: right;\">\n",
       "      <th></th>\n",
       "      <th>specimen_date</th>\n",
       "      <th>Number_tested</th>\n",
       "      <th>Number_confirmed</th>\n",
       "      <th>Number_hospitalized</th>\n",
       "      <th>Number_deaths</th>\n",
       "    </tr>\n",
       "  </thead>\n",
       "  <tbody>\n",
       "    <tr>\n",
       "      <th>0</th>\n",
       "      <td>2020-04-17</td>\n",
       "      <td>9979</td>\n",
       "      <td>3386</td>\n",
       "      <td>527</td>\n",
       "      <td>96</td>\n",
       "    </tr>\n",
       "    <tr>\n",
       "      <th>1</th>\n",
       "      <td>2020-02-08</td>\n",
       "      <td>1</td>\n",
       "      <td>0</td>\n",
       "      <td>0</td>\n",
       "      <td>0</td>\n",
       "    </tr>\n",
       "    <tr>\n",
       "      <th>2</th>\n",
       "      <td>2020-03-05</td>\n",
       "      <td>63</td>\n",
       "      <td>5</td>\n",
       "      <td>3</td>\n",
       "      <td>1</td>\n",
       "    </tr>\n",
       "    <tr>\n",
       "      <th>3</th>\n",
       "      <td>2020-04-09</td>\n",
       "      <td>9019</td>\n",
       "      <td>4803</td>\n",
       "      <td>1253</td>\n",
       "      <td>386</td>\n",
       "    </tr>\n",
       "    <tr>\n",
       "      <th>4</th>\n",
       "      <td>2020-04-03</td>\n",
       "      <td>9389</td>\n",
       "      <td>5523</td>\n",
       "      <td>1688</td>\n",
       "      <td>582</td>\n",
       "    </tr>\n",
       "    <tr>\n",
       "      <th>5</th>\n",
       "      <td>2020-03-25</td>\n",
       "      <td>7457</td>\n",
       "      <td>4803</td>\n",
       "      <td>1395</td>\n",
       "      <td>429</td>\n",
       "    </tr>\n",
       "    <tr>\n",
       "      <th>6</th>\n",
       "      <td>2020-03-21</td>\n",
       "      <td>4713</td>\n",
       "      <td>2663</td>\n",
       "      <td>757</td>\n",
       "      <td>231</td>\n",
       "    </tr>\n",
       "    <tr>\n",
       "      <th>7</th>\n",
       "      <td>2020-03-20</td>\n",
       "      <td>7756</td>\n",
       "      <td>4121</td>\n",
       "      <td>889</td>\n",
       "      <td>237</td>\n",
       "    </tr>\n",
       "    <tr>\n",
       "      <th>8</th>\n",
       "      <td>2020-03-14</td>\n",
       "      <td>1702</td>\n",
       "      <td>684</td>\n",
       "      <td>217</td>\n",
       "      <td>59</td>\n",
       "    </tr>\n",
       "    <tr>\n",
       "      <th>9</th>\n",
       "      <td>2020-04-24</td>\n",
       "      <td>8683</td>\n",
       "      <td>2092</td>\n",
       "      <td>230</td>\n",
       "      <td>18</td>\n",
       "    </tr>\n",
       "  </tbody>\n",
       "</table>\n",
       "</div>"
      ],
      "text/plain": [
       "  specimen_date  Number_tested  Number_confirmed  Number_hospitalized  \\\n",
       "0    2020-04-17           9979              3386                  527   \n",
       "1    2020-02-08              1                 0                    0   \n",
       "2    2020-03-05             63                 5                    3   \n",
       "3    2020-04-09           9019              4803                 1253   \n",
       "4    2020-04-03           9389              5523                 1688   \n",
       "5    2020-03-25           7457              4803                 1395   \n",
       "6    2020-03-21           4713              2663                  757   \n",
       "7    2020-03-20           7756              4121                  889   \n",
       "8    2020-03-14           1702               684                  217   \n",
       "9    2020-04-24           8683              2092                  230   \n",
       "\n",
       "   Number_deaths  \n",
       "0             96  \n",
       "1              0  \n",
       "2              1  \n",
       "3            386  \n",
       "4            582  \n",
       "5            429  \n",
       "6            231  \n",
       "7            237  \n",
       "8             59  \n",
       "9             18  "
      ]
     },
     "execution_count": 12,
     "metadata": {},
     "output_type": "execute_result"
    }
   ],
   "source": [
    "new_df.head(10)"
   ]
  },
  {
   "cell_type": "code",
   "execution_count": 13,
   "id": "c2bd60a5",
   "metadata": {},
   "outputs": [
    {
     "data": {
      "text/html": [
       "<div>\n",
       "<style scoped>\n",
       "    .dataframe tbody tr th:only-of-type {\n",
       "        vertical-align: middle;\n",
       "    }\n",
       "\n",
       "    .dataframe tbody tr th {\n",
       "        vertical-align: top;\n",
       "    }\n",
       "\n",
       "    .dataframe thead th {\n",
       "        text-align: right;\n",
       "    }\n",
       "</style>\n",
       "<table border=\"1\" class=\"dataframe\">\n",
       "  <thead>\n",
       "    <tr style=\"text-align: right;\">\n",
       "      <th></th>\n",
       "      <th>specimen_date</th>\n",
       "      <th>Number_tested</th>\n",
       "      <th>Number_confirmed</th>\n",
       "      <th>Number_hospitalized</th>\n",
       "      <th>Number_deaths</th>\n",
       "    </tr>\n",
       "  </thead>\n",
       "  <tbody>\n",
       "    <tr>\n",
       "      <th>0</th>\n",
       "      <td>2020-04-17</td>\n",
       "      <td>9979</td>\n",
       "      <td>3386</td>\n",
       "      <td>527</td>\n",
       "      <td>96</td>\n",
       "    </tr>\n",
       "    <tr>\n",
       "      <th>1</th>\n",
       "      <td>2020-02-08</td>\n",
       "      <td>1</td>\n",
       "      <td>0</td>\n",
       "      <td>0</td>\n",
       "      <td>0</td>\n",
       "    </tr>\n",
       "    <tr>\n",
       "      <th>2</th>\n",
       "      <td>2020-03-05</td>\n",
       "      <td>63</td>\n",
       "      <td>5</td>\n",
       "      <td>3</td>\n",
       "      <td>1</td>\n",
       "    </tr>\n",
       "    <tr>\n",
       "      <th>3</th>\n",
       "      <td>2020-04-09</td>\n",
       "      <td>9019</td>\n",
       "      <td>4803</td>\n",
       "      <td>1253</td>\n",
       "      <td>386</td>\n",
       "    </tr>\n",
       "    <tr>\n",
       "      <th>4</th>\n",
       "      <td>2020-04-03</td>\n",
       "      <td>9389</td>\n",
       "      <td>5523</td>\n",
       "      <td>1688</td>\n",
       "      <td>582</td>\n",
       "    </tr>\n",
       "    <tr>\n",
       "      <th>...</th>\n",
       "      <td>...</td>\n",
       "      <td>...</td>\n",
       "      <td>...</td>\n",
       "      <td>...</td>\n",
       "      <td>...</td>\n",
       "    </tr>\n",
       "    <tr>\n",
       "      <th>176143</th>\n",
       "      <td>2020-11-18</td>\n",
       "      <td>21551</td>\n",
       "      <td>2483</td>\n",
       "      <td>163</td>\n",
       "      <td>41</td>\n",
       "    </tr>\n",
       "    <tr>\n",
       "      <th>176144</th>\n",
       "      <td>2021-03-17</td>\n",
       "      <td>13961</td>\n",
       "      <td>1678</td>\n",
       "      <td>166</td>\n",
       "      <td>27</td>\n",
       "    </tr>\n",
       "    <tr>\n",
       "      <th>176145</th>\n",
       "      <td>2020-03-09</td>\n",
       "      <td>401</td>\n",
       "      <td>89</td>\n",
       "      <td>36</td>\n",
       "      <td>19</td>\n",
       "    </tr>\n",
       "    <tr>\n",
       "      <th>176146</th>\n",
       "      <td>2021-09-10</td>\n",
       "      <td>14573</td>\n",
       "      <td>503</td>\n",
       "      <td>38</td>\n",
       "      <td>0</td>\n",
       "    </tr>\n",
       "    <tr>\n",
       "      <th>176147</th>\n",
       "      <td>2020-09-04</td>\n",
       "      <td>18765</td>\n",
       "      <td>1648</td>\n",
       "      <td>147</td>\n",
       "      <td>33</td>\n",
       "    </tr>\n",
       "  </tbody>\n",
       "</table>\n",
       "<p>175979 rows × 5 columns</p>\n",
       "</div>"
      ],
      "text/plain": [
       "       specimen_date  Number_tested  Number_confirmed  Number_hospitalized  \\\n",
       "0         2020-04-17           9979              3386                  527   \n",
       "1         2020-02-08              1                 0                    0   \n",
       "2         2020-03-05             63                 5                    3   \n",
       "3         2020-04-09           9019              4803                 1253   \n",
       "4         2020-04-03           9389              5523                 1688   \n",
       "...              ...            ...               ...                  ...   \n",
       "176143    2020-11-18          21551              2483                  163   \n",
       "176144    2021-03-17          13961              1678                  166   \n",
       "176145    2020-03-09            401                89                   36   \n",
       "176146    2021-09-10          14573               503                   38   \n",
       "176147    2020-09-04          18765              1648                  147   \n",
       "\n",
       "        Number_deaths  \n",
       "0                  96  \n",
       "1                   0  \n",
       "2                   1  \n",
       "3                 386  \n",
       "4                 582  \n",
       "...               ...  \n",
       "176143             41  \n",
       "176144             27  \n",
       "176145             19  \n",
       "176146              0  \n",
       "176147             33  \n",
       "\n",
       "[175979 rows x 5 columns]"
      ]
     },
     "execution_count": 13,
     "metadata": {},
     "output_type": "execute_result"
    }
   ],
   "source": [
    "covid_df= new_df.loc[new_df.specimen_date<'2022-01-01']\n",
    "covid_df"
   ]
  },
  {
   "cell_type": "code",
   "execution_count": 14,
   "id": "e58ba6f0",
   "metadata": {},
   "outputs": [
    {
     "data": {
      "text/plain": [
       "specimen_date          datetime64[ns]\n",
       "Number_tested                   int64\n",
       "Number_confirmed                int64\n",
       "Number_hospitalized             int64\n",
       "Number_deaths                   int64\n",
       "dtype: object"
      ]
     },
     "execution_count": 14,
     "metadata": {},
     "output_type": "execute_result"
    }
   ],
   "source": [
    "covid_df.dtypes"
   ]
  },
  {
   "cell_type": "code",
   "execution_count": 15,
   "id": "a704f3a8",
   "metadata": {},
   "outputs": [],
   "source": [
    "output_file_path = \"../project/covid_df.csv\"\n",
    "covid_df.to_csv(output_file_path, index=False)"
   ]
  },
  {
   "cell_type": "code",
   "execution_count": 16,
   "id": "6b7a531b",
   "metadata": {},
   "outputs": [
    {
     "name": "stdout",
     "output_type": "stream",
     "text": [
      "<class 'pandas.core.frame.DataFrame'>\n",
      "Int64Index: 175979 entries, 0 to 176147\n",
      "Data columns (total 5 columns):\n",
      " #   Column               Non-Null Count   Dtype         \n",
      "---  ------               --------------   -----         \n",
      " 0   specimen_date        175979 non-null  datetime64[ns]\n",
      " 1   Number_tested        175979 non-null  int64         \n",
      " 2   Number_confirmed     175979 non-null  int64         \n",
      " 3   Number_hospitalized  175979 non-null  int64         \n",
      " 4   Number_deaths        175979 non-null  int64         \n",
      "dtypes: datetime64[ns](1), int64(4)\n",
      "memory usage: 8.1 MB\n"
     ]
    }
   ],
   "source": [
    "covid_df.info()"
   ]
  },
  {
   "cell_type": "code",
   "execution_count": 17,
   "id": "6cbffcd1",
   "metadata": {},
   "outputs": [],
   "source": [
    "#def datetime_to_int(dt):\n",
    "#    return int(dt.strftime(\"%Y%m%d%H%M%S\"))"
   ]
  },
  {
   "cell_type": "code",
   "execution_count": 19,
   "id": "453f673b",
   "metadata": {},
   "outputs": [
    {
     "data": {
      "text/html": [
       "<div>\n",
       "<style scoped>\n",
       "    .dataframe tbody tr th:only-of-type {\n",
       "        vertical-align: middle;\n",
       "    }\n",
       "\n",
       "    .dataframe tbody tr th {\n",
       "        vertical-align: top;\n",
       "    }\n",
       "\n",
       "    .dataframe thead th {\n",
       "        text-align: right;\n",
       "    }\n",
       "</style>\n",
       "<table border=\"1\" class=\"dataframe\">\n",
       "  <thead>\n",
       "    <tr style=\"text-align: right;\">\n",
       "      <th></th>\n",
       "      <th>specimen_date</th>\n",
       "      <th>Number_tested</th>\n",
       "      <th>Number_confirmed</th>\n",
       "      <th>Number_hospitalized</th>\n",
       "      <th>Number_deaths</th>\n",
       "    </tr>\n",
       "  </thead>\n",
       "  <tbody>\n",
       "    <tr>\n",
       "      <th>0</th>\n",
       "      <td>2020-04-17</td>\n",
       "      <td>9979</td>\n",
       "      <td>3386</td>\n",
       "      <td>527</td>\n",
       "      <td>96</td>\n",
       "    </tr>\n",
       "    <tr>\n",
       "      <th>1</th>\n",
       "      <td>2020-02-08</td>\n",
       "      <td>1</td>\n",
       "      <td>0</td>\n",
       "      <td>0</td>\n",
       "      <td>0</td>\n",
       "    </tr>\n",
       "    <tr>\n",
       "      <th>2</th>\n",
       "      <td>2020-03-05</td>\n",
       "      <td>63</td>\n",
       "      <td>5</td>\n",
       "      <td>3</td>\n",
       "      <td>1</td>\n",
       "    </tr>\n",
       "    <tr>\n",
       "      <th>3</th>\n",
       "      <td>2020-04-09</td>\n",
       "      <td>9019</td>\n",
       "      <td>4803</td>\n",
       "      <td>1253</td>\n",
       "      <td>386</td>\n",
       "    </tr>\n",
       "    <tr>\n",
       "      <th>4</th>\n",
       "      <td>2020-04-03</td>\n",
       "      <td>9389</td>\n",
       "      <td>5523</td>\n",
       "      <td>1688</td>\n",
       "      <td>582</td>\n",
       "    </tr>\n",
       "    <tr>\n",
       "      <th>...</th>\n",
       "      <td>...</td>\n",
       "      <td>...</td>\n",
       "      <td>...</td>\n",
       "      <td>...</td>\n",
       "      <td>...</td>\n",
       "    </tr>\n",
       "    <tr>\n",
       "      <th>176143</th>\n",
       "      <td>2020-11-18</td>\n",
       "      <td>21551</td>\n",
       "      <td>2483</td>\n",
       "      <td>163</td>\n",
       "      <td>41</td>\n",
       "    </tr>\n",
       "    <tr>\n",
       "      <th>176144</th>\n",
       "      <td>2021-03-17</td>\n",
       "      <td>13961</td>\n",
       "      <td>1678</td>\n",
       "      <td>166</td>\n",
       "      <td>27</td>\n",
       "    </tr>\n",
       "    <tr>\n",
       "      <th>176145</th>\n",
       "      <td>2020-03-09</td>\n",
       "      <td>401</td>\n",
       "      <td>89</td>\n",
       "      <td>36</td>\n",
       "      <td>19</td>\n",
       "    </tr>\n",
       "    <tr>\n",
       "      <th>176146</th>\n",
       "      <td>2021-09-10</td>\n",
       "      <td>14573</td>\n",
       "      <td>503</td>\n",
       "      <td>38</td>\n",
       "      <td>0</td>\n",
       "    </tr>\n",
       "    <tr>\n",
       "      <th>176147</th>\n",
       "      <td>2020-09-04</td>\n",
       "      <td>18765</td>\n",
       "      <td>1648</td>\n",
       "      <td>147</td>\n",
       "      <td>33</td>\n",
       "    </tr>\n",
       "  </tbody>\n",
       "</table>\n",
       "<p>175979 rows × 5 columns</p>\n",
       "</div>"
      ],
      "text/plain": [
       "       specimen_date  Number_tested  Number_confirmed  Number_hospitalized  \\\n",
       "0         2020-04-17           9979              3386                  527   \n",
       "1         2020-02-08              1                 0                    0   \n",
       "2         2020-03-05             63                 5                    3   \n",
       "3         2020-04-09           9019              4803                 1253   \n",
       "4         2020-04-03           9389              5523                 1688   \n",
       "...              ...            ...               ...                  ...   \n",
       "176143    2020-11-18          21551              2483                  163   \n",
       "176144    2021-03-17          13961              1678                  166   \n",
       "176145    2020-03-09            401                89                   36   \n",
       "176146    2021-09-10          14573               503                   38   \n",
       "176147    2020-09-04          18765              1648                  147   \n",
       "\n",
       "        Number_deaths  \n",
       "0                  96  \n",
       "1                   0  \n",
       "2                   1  \n",
       "3                 386  \n",
       "4                 582  \n",
       "...               ...  \n",
       "176143             41  \n",
       "176144             27  \n",
       "176145             19  \n",
       "176146              0  \n",
       "176147             33  \n",
       "\n",
       "[175979 rows x 5 columns]"
      ]
     },
     "execution_count": 19,
     "metadata": {},
     "output_type": "execute_result"
    }
   ],
   "source": [
    "covid_df"
   ]
  },
  {
   "cell_type": "code",
   "execution_count": 40,
   "id": "a0fc4a80",
   "metadata": {},
   "outputs": [],
   "source": [
    "covid_df.specimen_date = covid_df.specimen_date.values.astype(\"datetime64[ns]\").astype(np.int64)"
   ]
  },
  {
   "cell_type": "code",
   "execution_count": null,
   "id": "b4979449",
   "metadata": {},
   "outputs": [],
   "source": []
  },
  {
   "cell_type": "code",
   "execution_count": 20,
   "id": "96c478ba",
   "metadata": {},
   "outputs": [
    {
     "data": {
      "text/html": [
       "<div>\n",
       "<style scoped>\n",
       "    .dataframe tbody tr th:only-of-type {\n",
       "        vertical-align: middle;\n",
       "    }\n",
       "\n",
       "    .dataframe tbody tr th {\n",
       "        vertical-align: top;\n",
       "    }\n",
       "\n",
       "    .dataframe thead th {\n",
       "        text-align: right;\n",
       "    }\n",
       "</style>\n",
       "<table border=\"1\" class=\"dataframe\">\n",
       "  <thead>\n",
       "    <tr style=\"text-align: right;\">\n",
       "      <th></th>\n",
       "      <th>Number_tested</th>\n",
       "      <th>Number_confirmed</th>\n",
       "      <th>Number_hospitalized</th>\n",
       "      <th>Number_deaths</th>\n",
       "    </tr>\n",
       "  </thead>\n",
       "  <tbody>\n",
       "    <tr>\n",
       "      <th>count</th>\n",
       "      <td>175979.000000</td>\n",
       "      <td>175979.000000</td>\n",
       "      <td>175979.000000</td>\n",
       "      <td>175979.000000</td>\n",
       "    </tr>\n",
       "    <tr>\n",
       "      <th>mean</th>\n",
       "      <td>11152.174379</td>\n",
       "      <td>1429.285006</td>\n",
       "      <td>235.172003</td>\n",
       "      <td>74.011695</td>\n",
       "    </tr>\n",
       "    <tr>\n",
       "      <th>std</th>\n",
       "      <td>6406.824861</td>\n",
       "      <td>1368.164107</td>\n",
       "      <td>392.127262</td>\n",
       "      <td>160.170459</td>\n",
       "    </tr>\n",
       "    <tr>\n",
       "      <th>min</th>\n",
       "      <td>1.000000</td>\n",
       "      <td>0.000000</td>\n",
       "      <td>0.000000</td>\n",
       "      <td>0.000000</td>\n",
       "    </tr>\n",
       "    <tr>\n",
       "      <th>25%</th>\n",
       "      <td>6739.000000</td>\n",
       "      <td>373.000000</td>\n",
       "      <td>39.000000</td>\n",
       "      <td>4.000000</td>\n",
       "    </tr>\n",
       "    <tr>\n",
       "      <th>50%</th>\n",
       "      <td>10889.000000</td>\n",
       "      <td>1137.000000</td>\n",
       "      <td>116.000000</td>\n",
       "      <td>21.000000</td>\n",
       "    </tr>\n",
       "    <tr>\n",
       "      <th>75%</th>\n",
       "      <td>16448.000000</td>\n",
       "      <td>1961.000000</td>\n",
       "      <td>199.000000</td>\n",
       "      <td>44.000000</td>\n",
       "    </tr>\n",
       "    <tr>\n",
       "      <th>max</th>\n",
       "      <td>24727.000000</td>\n",
       "      <td>6852.000000</td>\n",
       "      <td>2016.000000</td>\n",
       "      <td>923.000000</td>\n",
       "    </tr>\n",
       "  </tbody>\n",
       "</table>\n",
       "</div>"
      ],
      "text/plain": [
       "       Number_tested  Number_confirmed  Number_hospitalized  Number_deaths\n",
       "count  175979.000000     175979.000000        175979.000000  175979.000000\n",
       "mean    11152.174379       1429.285006           235.172003      74.011695\n",
       "std      6406.824861       1368.164107           392.127262     160.170459\n",
       "min         1.000000          0.000000             0.000000       0.000000\n",
       "25%      6739.000000        373.000000            39.000000       4.000000\n",
       "50%     10889.000000       1137.000000           116.000000      21.000000\n",
       "75%     16448.000000       1961.000000           199.000000      44.000000\n",
       "max     24727.000000       6852.000000          2016.000000     923.000000"
      ]
     },
     "execution_count": 20,
     "metadata": {},
     "output_type": "execute_result"
    }
   ],
   "source": [
    "covid_df.describe()"
   ]
  },
  {
   "cell_type": "code",
   "execution_count": 21,
   "id": "71f6a37f",
   "metadata": {},
   "outputs": [
    {
     "data": {
      "text/plain": [
       "specimen_date          datetime64[ns]\n",
       "Number_tested                   int64\n",
       "Number_confirmed                int64\n",
       "Number_hospitalized             int64\n",
       "Number_deaths                   int64\n",
       "dtype: object"
      ]
     },
     "execution_count": 21,
     "metadata": {},
     "output_type": "execute_result"
    }
   ],
   "source": [
    "covid_df.dtypes"
   ]
  },
  {
   "cell_type": "code",
   "execution_count": 22,
   "id": "4d8fee1b",
   "metadata": {},
   "outputs": [
    {
     "name": "stdout",
     "output_type": "stream",
     "text": [
      "Columnspecimen_datehas0null values\n",
      "ColumnNumber_testedhas0null values\n",
      "ColumnNumber_confirmedhas0null values\n",
      "ColumnNumber_hospitalizedhas0null values\n",
      "ColumnNumber_deathshas0null values\n"
     ]
    }
   ],
   "source": [
    "for column in covid_df.columns:\n",
    "    print(f\"Column{column}has{covid_df[column].isnull().sum()}null values\")"
   ]
  },
  {
   "cell_type": "code",
   "execution_count": 23,
   "id": "9ff6c82f",
   "metadata": {},
   "outputs": [],
   "source": [
    "output_file_path = \"../project/covid_df.csv\"\n",
    "covid_df.to_csv(output_file_path, index=False)"
   ]
  },
  {
   "cell_type": "code",
   "execution_count": 24,
   "id": "9db0563b",
   "metadata": {},
   "outputs": [
    {
     "data": {
      "text/plain": [
       "['specimen_date',\n",
       " 'Number_tested',\n",
       " 'Number_confirmed',\n",
       " 'Number_hospitalized',\n",
       " 'Number_deaths']"
      ]
     },
     "execution_count": 24,
     "metadata": {},
     "output_type": "execute_result"
    }
   ],
   "source": [
    "covid_df.columns.to_list()"
   ]
  },
  {
   "cell_type": "code",
   "execution_count": 25,
   "id": "daf450c8",
   "metadata": {},
   "outputs": [],
   "source": [
    "#covid_df.index = pd.DatetimeIndex(covid_df[\"specimen_date\"], tz=\"utc\")"
   ]
  },
  {
   "cell_type": "code",
   "execution_count": 26,
   "id": "05cbe6bb",
   "metadata": {},
   "outputs": [],
   "source": [
    "#covid_df['specimen_date'] = pd.to_datetime(covid_df['specimen_date'])"
   ]
  },
  {
   "cell_type": "code",
   "execution_count": 27,
   "id": "6fdeb2b4",
   "metadata": {},
   "outputs": [
    {
     "data": {
      "image/png": "[encoded data removed]",
      "text/plain": [
       "<Figure size 432x288 with 1 Axes>"
      ]
     },
     "metadata": {
      "needs_background": "light"
     },
     "output_type": "display_data"
    }
   ],
   "source": [
    "plt.scatter(covid_df.Number_tested, covid_df.Number_deaths)\n",
    "plt.xlabel('Number_tested')\n",
    "plt.ylabel('Number_deaths')\n",
    "plt.show()"
   ]
  },
  {
   "cell_type": "code",
   "execution_count": 28,
   "id": "3a917749",
   "metadata": {},
   "outputs": [
    {
     "data": {
      "image/png": "[encoded data removed]",
      "text/plain": [
       "<Figure size 432x288 with 1 Axes>"
      ]
     },
     "metadata": {
      "needs_background": "light"
     },
     "output_type": "display_data"
    }
   ],
   "source": [
    "plt.scatter(covid_df.specimen_date, covid_df.Number_deaths)\n",
    "plt.xlabel('specimen_date')\n",
    "plt.ylabel('Number_deaths')\n",
    "plt.show()"
   ]
  },
  {
   "cell_type": "code",
   "execution_count": 29,
   "id": "10f93699",
   "metadata": {},
   "outputs": [],
   "source": [
    "X = df.Number_hospitalized.values.reshape(-1, 1)"
   ]
  },
  {
   "cell_type": "code",
   "execution_count": 30,
   "id": "9e637f29",
   "metadata": {},
   "outputs": [],
   "source": [
    "y = df.Number_deaths.values.reshape(-1, 1)"
   ]
  },
  {
   "cell_type": "code",
   "execution_count": 31,
   "id": "524c8839",
   "metadata": {},
   "outputs": [
    {
     "data": {
      "text/plain": [
       "(176148, 1)"
      ]
     },
     "execution_count": 31,
     "metadata": {},
     "output_type": "execute_result"
    }
   ],
   "source": [
    "X.shape"
   ]
  },
  {
   "cell_type": "code",
   "execution_count": 32,
   "id": "0bb64ce5",
   "metadata": {},
   "outputs": [
    {
     "data": {
      "text/plain": [
       "(176148, 1)"
      ]
     },
     "execution_count": 32,
     "metadata": {},
     "output_type": "execute_result"
    }
   ],
   "source": [
    "y.shape"
   ]
  },
  {
   "cell_type": "code",
   "execution_count": 33,
   "id": "f38789d8",
   "metadata": {},
   "outputs": [
    {
     "data": {
      "text/plain": [
       "array([[ 527],\n",
       "       [   0],\n",
       "       [   3],\n",
       "       [1253],\n",
       "       [1688]], dtype=int64)"
      ]
     },
     "execution_count": 33,
     "metadata": {},
     "output_type": "execute_result"
    }
   ],
   "source": [
    "X[:5]"
   ]
  },
  {
   "cell_type": "code",
   "execution_count": 34,
   "id": "60486a62",
   "metadata": {},
   "outputs": [
    {
     "data": {
      "text/plain": [
       "array([[ 96],\n",
       "       [  0],\n",
       "       [  1],\n",
       "       [386],\n",
       "       [582]], dtype=int64)"
      ]
     },
     "execution_count": 34,
     "metadata": {},
     "output_type": "execute_result"
    }
   ],
   "source": [
    "y[:5]"
   ]
  },
  {
   "cell_type": "code",
   "execution_count": 35,
   "id": "1d08562f",
   "metadata": {},
   "outputs": [],
   "source": [
    "model = LinearRegression()"
   ]
  },
  {
   "cell_type": "code",
   "execution_count": 36,
   "id": "d6fff3d8",
   "metadata": {},
   "outputs": [
    {
     "data": {
      "text/html": [
       "<style>#sk-container-id-1 {color: black;background-color: white;}#sk-container-id-1 pre{padding: 0;}#sk-container-id-1 div.sk-toggleable {background-color: white;}#sk-container-id-1 label.sk-toggleable__label {cursor: pointer;display: block;width: 100%;margin-bottom: 0;padding: 0.3em;box-sizing: border-box;text-align: center;}#sk-container-id-1 label.sk-toggleable__label-arrow:before {content: \"▸\";float: left;margin-right: 0.25em;color: #696969;}#sk-container-id-1 label.sk-toggleable__label-arrow:hover:before {color: black;}#sk-container-id-1 div.sk-estimator:hover label.sk-toggleable__label-arrow:before {color: black;}#sk-container-id-1 div.sk-toggleable__content {max-height: 0;max-width: 0;overflow: hidden;text-align: left;background-color: #f0f8ff;}#sk-container-id-1 div.sk-toggleable__content pre {margin: 0.2em;color: black;border-radius: 0.25em;background-color: #f0f8ff;}#sk-container-id-1 input.sk-toggleable__control:checked~div.sk-toggleable__content {max-height: 200px;max-width: 100%;overflow: auto;}#sk-container-id-1 input.sk-toggleable__control:checked~label.sk-toggleable__label-arrow:before {content: \"▾\";}#sk-container-id-1 div.sk-estimator input.sk-toggleable__control:checked~label.sk-toggleable__label {background-color: #d4ebff;}#sk-container-id-1 div.sk-label input.sk-toggleable__control:checked~label.sk-toggleable__label {background-color: #d4ebff;}#sk-container-id-1 input.sk-hidden--visually {border: 0;clip: rect(1px 1px 1px 1px);clip: rect(1px, 1px, 1px, 1px);height: 1px;margin: -1px;overflow: hidden;padding: 0;position: absolute;width: 1px;}#sk-container-id-1 div.sk-estimator {font-family: monospace;background-color: #f0f8ff;border: 1px dotted black;border-radius: 0.25em;box-sizing: border-box;margin-bottom: 0.5em;}#sk-container-id-1 div.sk-estimator:hover {background-color: #d4ebff;}#sk-container-id-1 div.sk-parallel-item::after {content: \"\";width: 100%;border-bottom: 1px solid gray;flex-grow: 1;}#sk-container-id-1 div.sk-label:hover label.sk-toggleable__label {background-color: #d4ebff;}#sk-container-id-1 div.sk-serial::before {content: \"\";position: absolute;border-left: 1px solid gray;box-sizing: border-box;top: 0;bottom: 0;left: 50%;z-index: 0;}#sk-container-id-1 div.sk-serial {display: flex;flex-direction: column;align-items: center;background-color: white;padding-right: 0.2em;padding-left: 0.2em;position: relative;}#sk-container-id-1 div.sk-item {position: relative;z-index: 1;}#sk-container-id-1 div.sk-parallel {display: flex;align-items: stretch;justify-content: center;background-color: white;position: relative;}#sk-container-id-1 div.sk-item::before, #sk-container-id-1 div.sk-parallel-item::before {content: \"\";position: absolute;border-left: 1px solid gray;box-sizing: border-box;top: 0;bottom: 0;left: 50%;z-index: -1;}#sk-container-id-1 div.sk-parallel-item {display: flex;flex-direction: column;z-index: 1;position: relative;background-color: white;}#sk-container-id-1 div.sk-parallel-item:first-child::after {align-self: flex-end;width: 50%;}#sk-container-id-1 div.sk-parallel-item:last-child::after {align-self: flex-start;width: 50%;}#sk-container-id-1 div.sk-parallel-item:only-child::after {width: 0;}#sk-container-id-1 div.sk-dashed-wrapped {border: 1px dashed gray;margin: 0 0.4em 0.5em 0.4em;box-sizing: border-box;padding-bottom: 0.4em;background-color: white;}#sk-container-id-1 div.sk-label label {font-family: monospace;font-weight: bold;display: inline-block;line-height: 1.2em;}#sk-container-id-1 div.sk-label-container {text-align: center;}#sk-container-id-1 div.sk-container {/* jupyter's `normalize.less` sets `[hidden] { display: none; }` but bootstrap.min.css set `[hidden] { display: none !important; }` so we also need the `!important` here to be able to override the default hidden behavior on the sphinx rendered scikit-learn.org. See: https://github.com/scikit-learn/scikit-learn/issues/21755 */display: inline-block !important;position: relative;}#sk-container-id-1 div.sk-text-repr-fallback {display: none;}</style><div id=\"sk-container-id-1\" class=\"sk-top-container\"><div class=\"sk-text-repr-fallback\"><pre>LinearRegression()</pre><b>In a Jupyter environment, please rerun this cell to show the HTML representation or trust the notebook. <br />On GitHub, the HTML representation is unable to render, please try loading this page with nbviewer.org.</b></div><div class=\"sk-container\" hidden><div class=\"sk-item\"><div class=\"sk-estimator sk-toggleable\"><input class=\"sk-toggleable__control sk-hidden--visually\" id=\"sk-estimator-id-1\" type=\"checkbox\" checked><label for=\"sk-estimator-id-1\" class=\"sk-toggleable__label sk-toggleable__label-arrow\">LinearRegression</label><div class=\"sk-toggleable__content\"><pre>LinearRegression()</pre></div></div></div></div></div>"
      ],
      "text/plain": [
       "LinearRegression()"
      ]
     },
     "execution_count": 36,
     "metadata": {},
     "output_type": "execute_result"
    }
   ],
   "source": [
    "model.fit(X, y)"
   ]
  },
  {
   "cell_type": "code",
   "execution_count": 37,
   "id": "5a5b99fe",
   "metadata": {},
   "outputs": [
    {
     "name": "stdout",
     "output_type": "stream",
     "text": [
      "(176148, 1)\n"
     ]
    }
   ],
   "source": [
    "y_pred = model.predict(X)\n",
    "print(y_pred.shape)"
   ]
  },
  {
   "cell_type": "code",
   "execution_count": 38,
   "id": "d39ffdb2",
   "metadata": {},
   "outputs": [
    {
     "data": {
      "image/png": "[encoded data removed]",
      "text/plain": [
       "<Figure size 432x288 with 1 Axes>"
      ]
     },
     "metadata": {
      "needs_background": "light"
     },
     "output_type": "display_data"
    }
   ],
   "source": [
    "plt.scatter(X, y)\n",
    "plt.plot(X, y_pred, color='red')\n",
    "plt.show()"
   ]
  },
  {
   "cell_type": "code",
   "execution_count": 39,
   "id": "80448b10",
   "metadata": {},
   "outputs": [
    {
     "name": "stdout",
     "output_type": "stream",
     "text": [
      "[[0.40315794]]\n",
      "[-20.77981002]\n"
     ]
    }
   ],
   "source": [
    "print(model.coef_)\n",
    "print(model.intercept_)"
   ]
  },
  {
   "cell_type": "code",
   "execution_count": null,
   "id": "bc877c31",
   "metadata": {},
   "outputs": [],
   "source": []
  }
 ],
 "metadata": {
  "kernelspec": {
   "display_name": "Python 3 (ipykernel)",
   "language": "python",
   "name": "python3"
  },
  "language_info": {
   "codemirror_mode": {
    "name": "ipython",
    "version": 3
   },
   "file_extension": ".py",
   "mimetype": "text/x-python",
   "name": "python",
   "nbconvert_exporter": "python",
   "pygments_lexer": "ipython3",
   "version": "3.9.7"
  }
 },
 "nbformat": 4,
 "nbformat_minor": 5
}
